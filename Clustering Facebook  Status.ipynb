{
 "cells": [
  {
   "cell_type": "markdown",
   "metadata": {},
   "source": [
    "# Summary\n",
    "Small businesses do not always have a way to compete with large companies who have resources and\n",
    "capital to promote their products. The sharing of content similar to word of mouth is one of the best\n",
    "and cheapest ways to promote and sell products. Therefore the emergence of live videos have made it\n",
    "possible for small businesses to gain back an edge by offering personalised experiences that\n",
    "encourage the promotion and buying of their goods. A clustering algorithm called k-means was found\n",
    "to be the best at discovering highly engaging live videos so that they could be qualitatively and\n",
    "quantitatively analysed. It further revealed that the number of reactions does not directly correlate to\n",
    "shares. The findings are optimistic for small sellers who can use their personal brand to offer a more\n",
    "direct service to consumers through instant live streaming. The implications of the clustering also\n",
    "showcase its possible usage to discover new types of highly engaging content for sellers to take\n",
    "advantage of."
   ]
  },
  {
   "cell_type": "code",
   "execution_count": 20,
   "metadata": {},
   "outputs": [
    {
     "data": {
      "text/html": [
       "<img src=\"chinalivestream.png\" width=\"150\" height=\"150\"/>"
      ],
      "text/plain": [
       "<IPython.core.display.Image object>"
      ]
     },
     "execution_count": 20,
     "metadata": {},
     "output_type": "execute_result"
    }
   ],
   "source": [
    "from IPython.display import Image\n",
    "from IPython.core.display import HTML \n",
    "Image(url= \"chinalivestream.png\", width=150, height=150)"
   ]
  },
  {
   "cell_type": "markdown",
   "metadata": {},
   "source": [
    "\n",
    "<a href=\"https://twitter.com/mbrennanchina/status/1175749242071080960\">Funny Video showing what livestreaming is like in China</a>\n",
    "\n",
    "\n"
   ]
  },
  {
   "cell_type": "markdown",
   "metadata": {},
   "source": [
    "# Loading, Cleaning and Checking the Data"
   ]
  },
  {
   "cell_type": "code",
   "execution_count": 1,
   "metadata": {},
   "outputs": [
    {
     "data": {
      "text/html": [
       "<div>\n",
       "<style scoped>\n",
       "    .dataframe tbody tr th:only-of-type {\n",
       "        vertical-align: middle;\n",
       "    }\n",
       "\n",
       "    .dataframe tbody tr th {\n",
       "        vertical-align: top;\n",
       "    }\n",
       "\n",
       "    .dataframe thead th {\n",
       "        text-align: right;\n",
       "    }\n",
       "</style>\n",
       "<table border=\"1\" class=\"dataframe\">\n",
       "  <thead>\n",
       "    <tr style=\"text-align: right;\">\n",
       "      <th></th>\n",
       "      <th>status_id</th>\n",
       "      <th>status_type</th>\n",
       "      <th>status_published</th>\n",
       "      <th>num_reactions</th>\n",
       "      <th>num_comments</th>\n",
       "      <th>num_shares</th>\n",
       "      <th>num_likes</th>\n",
       "      <th>num_loves</th>\n",
       "      <th>num_wows</th>\n",
       "      <th>num_hahas</th>\n",
       "      <th>num_sads</th>\n",
       "      <th>num_angrys</th>\n",
       "      <th>Column1</th>\n",
       "      <th>Column2</th>\n",
       "      <th>Column3</th>\n",
       "      <th>Column4</th>\n",
       "    </tr>\n",
       "  </thead>\n",
       "  <tbody>\n",
       "    <tr>\n",
       "      <th>0</th>\n",
       "      <td>246675545449582_1649696485147474</td>\n",
       "      <td>video</td>\n",
       "      <td>4/22/2018 6:00</td>\n",
       "      <td>529</td>\n",
       "      <td>512</td>\n",
       "      <td>262</td>\n",
       "      <td>432</td>\n",
       "      <td>92</td>\n",
       "      <td>3</td>\n",
       "      <td>1</td>\n",
       "      <td>1</td>\n",
       "      <td>0</td>\n",
       "      <td>NaN</td>\n",
       "      <td>NaN</td>\n",
       "      <td>NaN</td>\n",
       "      <td>NaN</td>\n",
       "    </tr>\n",
       "    <tr>\n",
       "      <th>1</th>\n",
       "      <td>246675545449582_1649426988507757</td>\n",
       "      <td>photo</td>\n",
       "      <td>4/21/2018 22:45</td>\n",
       "      <td>150</td>\n",
       "      <td>0</td>\n",
       "      <td>0</td>\n",
       "      <td>150</td>\n",
       "      <td>0</td>\n",
       "      <td>0</td>\n",
       "      <td>0</td>\n",
       "      <td>0</td>\n",
       "      <td>0</td>\n",
       "      <td>NaN</td>\n",
       "      <td>NaN</td>\n",
       "      <td>NaN</td>\n",
       "      <td>NaN</td>\n",
       "    </tr>\n",
       "    <tr>\n",
       "      <th>2</th>\n",
       "      <td>246675545449582_1648730588577397</td>\n",
       "      <td>video</td>\n",
       "      <td>4/21/2018 6:17</td>\n",
       "      <td>227</td>\n",
       "      <td>236</td>\n",
       "      <td>57</td>\n",
       "      <td>204</td>\n",
       "      <td>21</td>\n",
       "      <td>1</td>\n",
       "      <td>1</td>\n",
       "      <td>0</td>\n",
       "      <td>0</td>\n",
       "      <td>NaN</td>\n",
       "      <td>NaN</td>\n",
       "      <td>NaN</td>\n",
       "      <td>NaN</td>\n",
       "    </tr>\n",
       "    <tr>\n",
       "      <th>3</th>\n",
       "      <td>246675545449582_1648576705259452</td>\n",
       "      <td>photo</td>\n",
       "      <td>4/21/2018 2:29</td>\n",
       "      <td>111</td>\n",
       "      <td>0</td>\n",
       "      <td>0</td>\n",
       "      <td>111</td>\n",
       "      <td>0</td>\n",
       "      <td>0</td>\n",
       "      <td>0</td>\n",
       "      <td>0</td>\n",
       "      <td>0</td>\n",
       "      <td>NaN</td>\n",
       "      <td>NaN</td>\n",
       "      <td>NaN</td>\n",
       "      <td>NaN</td>\n",
       "    </tr>\n",
       "    <tr>\n",
       "      <th>4</th>\n",
       "      <td>246675545449582_1645700502213739</td>\n",
       "      <td>photo</td>\n",
       "      <td>4/18/2018 3:22</td>\n",
       "      <td>213</td>\n",
       "      <td>0</td>\n",
       "      <td>0</td>\n",
       "      <td>204</td>\n",
       "      <td>9</td>\n",
       "      <td>0</td>\n",
       "      <td>0</td>\n",
       "      <td>0</td>\n",
       "      <td>0</td>\n",
       "      <td>NaN</td>\n",
       "      <td>NaN</td>\n",
       "      <td>NaN</td>\n",
       "      <td>NaN</td>\n",
       "    </tr>\n",
       "  </tbody>\n",
       "</table>\n",
       "</div>"
      ],
      "text/plain": [
       "                          status_id status_type status_published  \\\n",
       "0  246675545449582_1649696485147474       video   4/22/2018 6:00   \n",
       "1  246675545449582_1649426988507757       photo  4/21/2018 22:45   \n",
       "2  246675545449582_1648730588577397       video   4/21/2018 6:17   \n",
       "3  246675545449582_1648576705259452       photo   4/21/2018 2:29   \n",
       "4  246675545449582_1645700502213739       photo   4/18/2018 3:22   \n",
       "\n",
       "   num_reactions  num_comments  num_shares  num_likes  num_loves  num_wows  \\\n",
       "0            529           512         262        432         92         3   \n",
       "1            150             0           0        150          0         0   \n",
       "2            227           236          57        204         21         1   \n",
       "3            111             0           0        111          0         0   \n",
       "4            213             0           0        204          9         0   \n",
       "\n",
       "   num_hahas  num_sads  num_angrys  Column1  Column2  Column3  Column4  \n",
       "0          1         1           0      NaN      NaN      NaN      NaN  \n",
       "1          0         0           0      NaN      NaN      NaN      NaN  \n",
       "2          1         0           0      NaN      NaN      NaN      NaN  \n",
       "3          0         0           0      NaN      NaN      NaN      NaN  \n",
       "4          0         0           0      NaN      NaN      NaN      NaN  "
      ]
     },
     "execution_count": 1,
     "metadata": {},
     "output_type": "execute_result"
    }
   ],
   "source": [
    "import matplotlib.pyplot as plt\n",
    "import pandas as pd \n",
    "Live= pd.read_csv('Live.csv')\n",
    "Live.head() # columns need a little cleaning"
   ]
  },
  {
   "cell_type": "code",
   "execution_count": 2,
   "metadata": {},
   "outputs": [
    {
     "name": "stdout",
     "output_type": "stream",
     "text": [
      "<class 'pandas.core.frame.DataFrame'>\n",
      "RangeIndex: 7050 entries, 0 to 7049\n",
      "Data columns (total 16 columns):\n",
      "status_id           7050 non-null object\n",
      "status_type         7050 non-null object\n",
      "status_published    7050 non-null object\n",
      "num_reactions       7050 non-null int64\n",
      "num_comments        7050 non-null int64\n",
      "num_shares          7050 non-null int64\n",
      "num_likes           7050 non-null int64\n",
      "num_loves           7050 non-null int64\n",
      "num_wows            7050 non-null int64\n",
      "num_hahas           7050 non-null int64\n",
      "num_sads            7050 non-null int64\n",
      "num_angrys          7050 non-null int64\n",
      "Column1             0 non-null float64\n",
      "Column2             0 non-null float64\n",
      "Column3             0 non-null float64\n",
      "Column4             0 non-null float64\n",
      "dtypes: float64(4), int64(9), object(3)\n",
      "memory usage: 881.3+ KB\n"
     ]
    }
   ],
   "source": [
    "Live.info()"
   ]
  },
  {
   "cell_type": "code",
   "execution_count": 3,
   "metadata": {},
   "outputs": [
    {
     "data": {
      "text/plain": [
       "photo     4288\n",
       "video     2334\n",
       "status     365\n",
       "link        63\n",
       "Name: status_type, dtype: int64"
      ]
     },
     "execution_count": 3,
     "metadata": {},
     "output_type": "execute_result"
    }
   ],
   "source": [
    "Live['status_type'].value_counts()"
   ]
  },
  {
   "cell_type": "code",
   "execution_count": 4,
   "metadata": {},
   "outputs": [
    {
     "data": {
      "text/html": [
       "<div>\n",
       "<style scoped>\n",
       "    .dataframe tbody tr th:only-of-type {\n",
       "        vertical-align: middle;\n",
       "    }\n",
       "\n",
       "    .dataframe tbody tr th {\n",
       "        vertical-align: top;\n",
       "    }\n",
       "\n",
       "    .dataframe thead th {\n",
       "        text-align: right;\n",
       "    }\n",
       "</style>\n",
       "<table border=\"1\" class=\"dataframe\">\n",
       "  <thead>\n",
       "    <tr style=\"text-align: right;\">\n",
       "      <th></th>\n",
       "      <th>num_reactions</th>\n",
       "      <th>num_comments</th>\n",
       "      <th>num_shares</th>\n",
       "      <th>num_likes</th>\n",
       "      <th>num_loves</th>\n",
       "      <th>num_wows</th>\n",
       "      <th>num_hahas</th>\n",
       "      <th>num_sads</th>\n",
       "      <th>num_angrys</th>\n",
       "      <th>Column1</th>\n",
       "      <th>Column2</th>\n",
       "      <th>Column3</th>\n",
       "      <th>Column4</th>\n",
       "    </tr>\n",
       "  </thead>\n",
       "  <tbody>\n",
       "    <tr>\n",
       "      <th>count</th>\n",
       "      <td>7050.000000</td>\n",
       "      <td>7050.000000</td>\n",
       "      <td>7050.000000</td>\n",
       "      <td>7050.000000</td>\n",
       "      <td>7050.000000</td>\n",
       "      <td>7050.000000</td>\n",
       "      <td>7050.000000</td>\n",
       "      <td>7050.000000</td>\n",
       "      <td>7050.000000</td>\n",
       "      <td>0.0</td>\n",
       "      <td>0.0</td>\n",
       "      <td>0.0</td>\n",
       "      <td>0.0</td>\n",
       "    </tr>\n",
       "    <tr>\n",
       "      <th>mean</th>\n",
       "      <td>230.117163</td>\n",
       "      <td>224.356028</td>\n",
       "      <td>40.022553</td>\n",
       "      <td>215.043121</td>\n",
       "      <td>12.728652</td>\n",
       "      <td>1.289362</td>\n",
       "      <td>0.696454</td>\n",
       "      <td>0.243688</td>\n",
       "      <td>0.113191</td>\n",
       "      <td>NaN</td>\n",
       "      <td>NaN</td>\n",
       "      <td>NaN</td>\n",
       "      <td>NaN</td>\n",
       "    </tr>\n",
       "    <tr>\n",
       "      <th>std</th>\n",
       "      <td>462.625309</td>\n",
       "      <td>889.636820</td>\n",
       "      <td>131.599965</td>\n",
       "      <td>449.472357</td>\n",
       "      <td>39.972930</td>\n",
       "      <td>8.719650</td>\n",
       "      <td>3.957183</td>\n",
       "      <td>1.597156</td>\n",
       "      <td>0.726812</td>\n",
       "      <td>NaN</td>\n",
       "      <td>NaN</td>\n",
       "      <td>NaN</td>\n",
       "      <td>NaN</td>\n",
       "    </tr>\n",
       "    <tr>\n",
       "      <th>min</th>\n",
       "      <td>0.000000</td>\n",
       "      <td>0.000000</td>\n",
       "      <td>0.000000</td>\n",
       "      <td>0.000000</td>\n",
       "      <td>0.000000</td>\n",
       "      <td>0.000000</td>\n",
       "      <td>0.000000</td>\n",
       "      <td>0.000000</td>\n",
       "      <td>0.000000</td>\n",
       "      <td>NaN</td>\n",
       "      <td>NaN</td>\n",
       "      <td>NaN</td>\n",
       "      <td>NaN</td>\n",
       "    </tr>\n",
       "    <tr>\n",
       "      <th>25%</th>\n",
       "      <td>17.000000</td>\n",
       "      <td>0.000000</td>\n",
       "      <td>0.000000</td>\n",
       "      <td>17.000000</td>\n",
       "      <td>0.000000</td>\n",
       "      <td>0.000000</td>\n",
       "      <td>0.000000</td>\n",
       "      <td>0.000000</td>\n",
       "      <td>0.000000</td>\n",
       "      <td>NaN</td>\n",
       "      <td>NaN</td>\n",
       "      <td>NaN</td>\n",
       "      <td>NaN</td>\n",
       "    </tr>\n",
       "    <tr>\n",
       "      <th>50%</th>\n",
       "      <td>59.500000</td>\n",
       "      <td>4.000000</td>\n",
       "      <td>0.000000</td>\n",
       "      <td>58.000000</td>\n",
       "      <td>0.000000</td>\n",
       "      <td>0.000000</td>\n",
       "      <td>0.000000</td>\n",
       "      <td>0.000000</td>\n",
       "      <td>0.000000</td>\n",
       "      <td>NaN</td>\n",
       "      <td>NaN</td>\n",
       "      <td>NaN</td>\n",
       "      <td>NaN</td>\n",
       "    </tr>\n",
       "    <tr>\n",
       "      <th>75%</th>\n",
       "      <td>219.000000</td>\n",
       "      <td>23.000000</td>\n",
       "      <td>4.000000</td>\n",
       "      <td>184.750000</td>\n",
       "      <td>3.000000</td>\n",
       "      <td>0.000000</td>\n",
       "      <td>0.000000</td>\n",
       "      <td>0.000000</td>\n",
       "      <td>0.000000</td>\n",
       "      <td>NaN</td>\n",
       "      <td>NaN</td>\n",
       "      <td>NaN</td>\n",
       "      <td>NaN</td>\n",
       "    </tr>\n",
       "    <tr>\n",
       "      <th>max</th>\n",
       "      <td>4710.000000</td>\n",
       "      <td>20990.000000</td>\n",
       "      <td>3424.000000</td>\n",
       "      <td>4710.000000</td>\n",
       "      <td>657.000000</td>\n",
       "      <td>278.000000</td>\n",
       "      <td>157.000000</td>\n",
       "      <td>51.000000</td>\n",
       "      <td>31.000000</td>\n",
       "      <td>NaN</td>\n",
       "      <td>NaN</td>\n",
       "      <td>NaN</td>\n",
       "      <td>NaN</td>\n",
       "    </tr>\n",
       "  </tbody>\n",
       "</table>\n",
       "</div>"
      ],
      "text/plain": [
       "       num_reactions  num_comments   num_shares    num_likes    num_loves  \\\n",
       "count    7050.000000   7050.000000  7050.000000  7050.000000  7050.000000   \n",
       "mean      230.117163    224.356028    40.022553   215.043121    12.728652   \n",
       "std       462.625309    889.636820   131.599965   449.472357    39.972930   \n",
       "min         0.000000      0.000000     0.000000     0.000000     0.000000   \n",
       "25%        17.000000      0.000000     0.000000    17.000000     0.000000   \n",
       "50%        59.500000      4.000000     0.000000    58.000000     0.000000   \n",
       "75%       219.000000     23.000000     4.000000   184.750000     3.000000   \n",
       "max      4710.000000  20990.000000  3424.000000  4710.000000   657.000000   \n",
       "\n",
       "          num_wows    num_hahas     num_sads   num_angrys  Column1  Column2  \\\n",
       "count  7050.000000  7050.000000  7050.000000  7050.000000      0.0      0.0   \n",
       "mean      1.289362     0.696454     0.243688     0.113191      NaN      NaN   \n",
       "std       8.719650     3.957183     1.597156     0.726812      NaN      NaN   \n",
       "min       0.000000     0.000000     0.000000     0.000000      NaN      NaN   \n",
       "25%       0.000000     0.000000     0.000000     0.000000      NaN      NaN   \n",
       "50%       0.000000     0.000000     0.000000     0.000000      NaN      NaN   \n",
       "75%       0.000000     0.000000     0.000000     0.000000      NaN      NaN   \n",
       "max     278.000000   157.000000    51.000000    31.000000      NaN      NaN   \n",
       "\n",
       "       Column3  Column4  \n",
       "count      0.0      0.0  \n",
       "mean       NaN      NaN  \n",
       "std        NaN      NaN  \n",
       "min        NaN      NaN  \n",
       "25%        NaN      NaN  \n",
       "50%        NaN      NaN  \n",
       "75%        NaN      NaN  \n",
       "max        NaN      NaN  "
      ]
     },
     "execution_count": 4,
     "metadata": {},
     "output_type": "execute_result"
    }
   ],
   "source": [
    "Live.describe()"
   ]
  },
  {
   "cell_type": "code",
   "execution_count": 5,
   "metadata": {},
   "outputs": [
    {
     "data": {
      "text/html": [
       "<div>\n",
       "<style scoped>\n",
       "    .dataframe tbody tr th:only-of-type {\n",
       "        vertical-align: middle;\n",
       "    }\n",
       "\n",
       "    .dataframe tbody tr th {\n",
       "        vertical-align: top;\n",
       "    }\n",
       "\n",
       "    .dataframe thead th {\n",
       "        text-align: right;\n",
       "    }\n",
       "</style>\n",
       "<table border=\"1\" class=\"dataframe\">\n",
       "  <thead>\n",
       "    <tr style=\"text-align: right;\">\n",
       "      <th></th>\n",
       "      <th>status_id</th>\n",
       "      <th>status_type</th>\n",
       "      <th>status_published</th>\n",
       "      <th>num_reactions</th>\n",
       "      <th>num_comments</th>\n",
       "      <th>num_shares</th>\n",
       "      <th>num_likes</th>\n",
       "      <th>num_loves</th>\n",
       "      <th>num_wows</th>\n",
       "      <th>num_hahas</th>\n",
       "      <th>num_sads</th>\n",
       "      <th>num_angrys</th>\n",
       "      <th>Column1</th>\n",
       "      <th>Column2</th>\n",
       "      <th>Column3</th>\n",
       "      <th>Column4</th>\n",
       "    </tr>\n",
       "  </thead>\n",
       "  <tbody>\n",
       "    <tr>\n",
       "      <th>1229</th>\n",
       "      <td>246675545449582_735701483213650</td>\n",
       "      <td>photo</td>\n",
       "      <td>4/10/2015 6:31</td>\n",
       "      <td>4710</td>\n",
       "      <td>50</td>\n",
       "      <td>1</td>\n",
       "      <td>4710</td>\n",
       "      <td>0</td>\n",
       "      <td>0</td>\n",
       "      <td>0</td>\n",
       "      <td>0</td>\n",
       "      <td>0</td>\n",
       "      <td>NaN</td>\n",
       "      <td>NaN</td>\n",
       "      <td>NaN</td>\n",
       "      <td>NaN</td>\n",
       "    </tr>\n",
       "  </tbody>\n",
       "</table>\n",
       "</div>"
      ],
      "text/plain": [
       "                            status_id status_type status_published  \\\n",
       "1229  246675545449582_735701483213650       photo   4/10/2015 6:31   \n",
       "\n",
       "      num_reactions  num_comments  num_shares  num_likes  num_loves  num_wows  \\\n",
       "1229           4710            50           1       4710          0         0   \n",
       "\n",
       "      num_hahas  num_sads  num_angrys  Column1  Column2  Column3  Column4  \n",
       "1229          0         0           0      NaN      NaN      NaN      NaN  "
      ]
     },
     "execution_count": 5,
     "metadata": {},
     "output_type": "execute_result"
    }
   ],
   "source": [
    "Live[Live['num_reactions']== 4710]\n",
    "# the maximum number for number of reaction looks wrong due to likes having the same number but on further inspection, this particular photo did not receive any other type of reaction)"
   ]
  },
  {
   "cell_type": "code",
   "execution_count": 6,
   "metadata": {},
   "outputs": [
    {
     "data": {
      "text/html": [
       "<div>\n",
       "<style scoped>\n",
       "    .dataframe tbody tr th:only-of-type {\n",
       "        vertical-align: middle;\n",
       "    }\n",
       "\n",
       "    .dataframe tbody tr th {\n",
       "        vertical-align: top;\n",
       "    }\n",
       "\n",
       "    .dataframe thead th {\n",
       "        text-align: right;\n",
       "    }\n",
       "</style>\n",
       "<table border=\"1\" class=\"dataframe\">\n",
       "  <thead>\n",
       "    <tr style=\"text-align: right;\">\n",
       "      <th></th>\n",
       "      <th>link</th>\n",
       "      <th>photo</th>\n",
       "      <th>status</th>\n",
       "      <th>video</th>\n",
       "    </tr>\n",
       "  </thead>\n",
       "  <tbody>\n",
       "    <tr>\n",
       "      <th>0</th>\n",
       "      <td>0</td>\n",
       "      <td>0</td>\n",
       "      <td>0</td>\n",
       "      <td>1</td>\n",
       "    </tr>\n",
       "    <tr>\n",
       "      <th>1</th>\n",
       "      <td>0</td>\n",
       "      <td>1</td>\n",
       "      <td>0</td>\n",
       "      <td>0</td>\n",
       "    </tr>\n",
       "    <tr>\n",
       "      <th>2</th>\n",
       "      <td>0</td>\n",
       "      <td>0</td>\n",
       "      <td>0</td>\n",
       "      <td>1</td>\n",
       "    </tr>\n",
       "    <tr>\n",
       "      <th>3</th>\n",
       "      <td>0</td>\n",
       "      <td>1</td>\n",
       "      <td>0</td>\n",
       "      <td>0</td>\n",
       "    </tr>\n",
       "    <tr>\n",
       "      <th>4</th>\n",
       "      <td>0</td>\n",
       "      <td>1</td>\n",
       "      <td>0</td>\n",
       "      <td>0</td>\n",
       "    </tr>\n",
       "  </tbody>\n",
       "</table>\n",
       "</div>"
      ],
      "text/plain": [
       "   link  photo  status  video\n",
       "0     0      0       0      1\n",
       "1     0      1       0      0\n",
       "2     0      0       0      1\n",
       "3     0      1       0      0\n",
       "4     0      1       0      0"
      ]
     },
     "execution_count": 6,
     "metadata": {},
     "output_type": "execute_result"
    }
   ],
   "source": [
    "# if i onehote encode the status type might be able to visualise it or add statustype to pca\n",
    "dummies_status_type = pd.get_dummies(Live['status_type']) # Dummy columns for region\n",
    "dummies_status_type = dummies_status_type.rename(index=int, columns={1: \"photo\", 2: \"video\", 3: \"status\", 4: \"link\"})\n",
    "dummies_status_type.head()"
   ]
  },
  {
   "cell_type": "code",
   "execution_count": 7,
   "metadata": {},
   "outputs": [],
   "source": [
    "# delete unwanted collumns\n",
    "Live = Live.drop([\"Column1\", \"Column2\", \"Column3\", \"Column4\"], axis=1) # these columns came with the dataset but contained nothing inside\n",
    "Live = Live.drop(['status_id'], axis = 1) # we already have status_published extracted, id is not useful"
   ]
  },
  {
   "cell_type": "code",
   "execution_count": 8,
   "metadata": {},
   "outputs": [
    {
     "data": {
      "text/plain": [
       "status_type         True\n",
       "status_published    True\n",
       "num_reactions       True\n",
       "num_comments        True\n",
       "num_shares          True\n",
       "num_likes           True\n",
       "num_loves           True\n",
       "num_wows            True\n",
       "num_hahas           True\n",
       "num_sads            True\n",
       "num_angrys          True\n",
       "dtype: bool"
      ]
     },
     "execution_count": 8,
     "metadata": {},
     "output_type": "execute_result"
    }
   ],
   "source": [
    "Live.notnull().all() # check for null values"
   ]
  },
  {
   "cell_type": "code",
   "execution_count": 9,
   "metadata": {},
   "outputs": [
    {
     "name": "stdout",
     "output_type": "stream",
     "text": [
      "  status_type status_published  num_reactions  num_comments  num_shares  \\\n",
      "0       video   4/22/2018 6:00            529           512         262   \n",
      "1       photo  4/21/2018 22:45            150             0           0   \n",
      "2       video   4/21/2018 6:17            227           236          57   \n",
      "3       photo   4/21/2018 2:29            111             0           0   \n",
      "4       photo   4/18/2018 3:22            213             0           0   \n",
      "\n",
      "   num_likes  num_loves  num_wows  num_hahas  num_sads  num_angrys  \n",
      "0        432         92         3          1         1           0  \n",
      "1        150          0         0          0         0           0  \n",
      "2        204         21         1          1         0           0  \n",
      "3        111          0         0          0         0           0  \n",
      "4        204          9         0          0         0           0  \n"
     ]
    }
   ],
   "source": [
    "print(Live.head())\n",
    "Live_cleaned = Live"
   ]
  },
  {
   "cell_type": "code",
   "execution_count": 10,
   "metadata": {},
   "outputs": [],
   "source": [
    "# manipulating status published for year, month and time of post\n",
    "Live['status_published'] = pd.to_datetime(Live['status_published']) # change to date time type\n",
    "\n",
    "# year\n",
    "Live['status_published'] = Live['status_published'].astype(str)\n",
    "start, stop, step = 0, 4, 1 # slice first 4 digits by 1\n",
    "Live['year'] = Live['status_published'].str.slice(start, stop, step)\n",
    "\n",
    "# month\n",
    "start, stop, step = 5, 7, 1 # slice first 4 digits by 1\n",
    "Live['month'] = Live['status_published'].str.slice(start, stop, step)\n",
    "\n",
    "# hour\n",
    "start, stop, step = 11, 13, 1 # slice first 4 digits by 1\n",
    "Live['hour'] = Live['status_published'].str.slice(start, stop, step)\n",
    "\n",
    "# qtr\n",
    "Live['qtr'] = pd.to_datetime(Live['status_published']).dt.quarter\n"
   ]
  },
  {
   "cell_type": "markdown",
   "metadata": {},
   "source": [
    "# Exploring variables with descriptive statistics and graphs"
   ]
  },
  {
   "cell_type": "markdown",
   "metadata": {},
   "source": [
    "1. Status type"
   ]
  },
  {
   "cell_type": "code",
   "execution_count": 11,
   "metadata": {},
   "outputs": [
    {
     "name": "stdout",
     "output_type": "stream",
     "text": [
      "photo     4288\n",
      "video     2334\n",
      "status     365\n",
      "link        63\n",
      "Name: status_type, dtype: int64\n"
     ]
    },
    {
     "data": {
      "image/png": "[encoded data removed]",
      "text/plain": [
       "<Figure size 432x288 with 1 Axes>"
      ]
     },
     "metadata": {},
     "output_type": "display_data"
    }
   ],
   "source": [
    "# descriptive statistics)\n",
    "Live_status_type = Live.groupby('status_type')\n",
    "Live_status_type['status_type'].count().plot(kind = 'pie', startangle = 90, autopct = '%.2f')\n",
    "plt.title('Percent amount of different status types')\n",
    "\n",
    "print(Live['status_type'].value_counts())"
   ]
  },
  {
   "cell_type": "markdown",
   "metadata": {},
   "source": [
    "2. Number of reactions"
   ]
  },
  {
   "cell_type": "code",
   "execution_count": 162,
   "metadata": {},
   "outputs": [
    {
     "data": {
      "image/png": "[encoded data removed]",
      "text/plain": [
       "<Figure size 432x288 with 1 Axes>"
      ]
     },
     "metadata": {
      "needs_background": "light"
     },
     "output_type": "display_data"
    },
    {
     "data": {
      "text/plain": [
       "count    7050.000000\n",
       "mean      230.117163\n",
       "std       462.625309\n",
       "min         0.000000\n",
       "25%        17.000000\n",
       "50%        59.500000\n",
       "75%       219.000000\n",
       "max      4710.000000\n",
       "Name: num_reactions, dtype: float64"
      ]
     },
     "execution_count": 162,
     "metadata": {},
     "output_type": "execute_result"
    }
   ],
   "source": [
    "Live[Live['num_reactions'] < 2000].num_reactions.plot(kind = 'hist')\n",
    "plt.xlabel('number of reactions')\n",
    "plt.title('Distribution of reactions')\n",
    "plt.show()\n",
    "\n",
    "Live['num_reactions'].describe()"
   ]
  },
  {
   "cell_type": "markdown",
   "metadata": {},
   "source": [
    "3. Number of comments"
   ]
  },
  {
   "cell_type": "code",
   "execution_count": 160,
   "metadata": {},
   "outputs": [
    {
     "data": {
      "image/png": "[encoded data removed]",
      "text/plain": [
       "<Figure size 432x288 with 1 Axes>"
      ]
     },
     "metadata": {
      "needs_background": "light"
     },
     "output_type": "display_data"
    },
    {
     "data": {
      "text/plain": [
       "count     7050.000000\n",
       "mean       224.356028\n",
       "std        889.636820\n",
       "min          0.000000\n",
       "25%          0.000000\n",
       "50%          4.000000\n",
       "75%         23.000000\n",
       "max      20990.000000\n",
       "Name: num_comments, dtype: float64"
      ]
     },
     "execution_count": 160,
     "metadata": {},
     "output_type": "execute_result"
    }
   ],
   "source": [
    "Live[Live['num_comments'] < 2000].num_comments.plot(kind = 'hist')\n",
    "plt.xlabel('number of comments')\n",
    "plt.title('Distribution of comments')\n",
    "plt.show()\n",
    "\n",
    "Live['num_comments'].describe()"
   ]
  },
  {
   "cell_type": "markdown",
   "metadata": {},
   "source": [
    "4. Number of shares"
   ]
  },
  {
   "cell_type": "code",
   "execution_count": 133,
   "metadata": {},
   "outputs": [
    {
     "data": {
      "image/png": "[encoded data removed]",
      "text/plain": [
       "<Figure size 432x288 with 1 Axes>"
      ]
     },
     "metadata": {
      "needs_background": "light"
     },
     "output_type": "display_data"
    },
    {
     "data": {
      "text/plain": [
       "count    7050.000000\n",
       "mean       40.022553\n",
       "std       131.599965\n",
       "min         0.000000\n",
       "25%         0.000000\n",
       "50%         0.000000\n",
       "75%         4.000000\n",
       "max      3424.000000\n",
       "Name: num_shares, dtype: float64"
      ]
     },
     "execution_count": 133,
     "metadata": {},
     "output_type": "execute_result"
    }
   ],
   "source": [
    "Live[Live['num_shares'] < 800].num_shares.plot(kind = 'hist')\n",
    "plt.xlabel('number of shares')\n",
    "plt.title('Distribution of shares')\n",
    "plt.show()\n",
    "\n",
    "Live['num_shares'].describe()"
   ]
  },
  {
   "cell_type": "markdown",
   "metadata": {},
   "source": [
    "5. Number of likes"
   ]
  },
  {
   "cell_type": "code",
   "execution_count": 158,
   "metadata": {},
   "outputs": [
    {
     "data": {
      "text/plain": [
       "count    7050.000000\n",
       "mean      215.043121\n",
       "std       449.472357\n",
       "min         0.000000\n",
       "25%        17.000000\n",
       "50%        58.000000\n",
       "75%       184.750000\n",
       "max      4710.000000\n",
       "Name: num_likes, dtype: float64"
      ]
     },
     "execution_count": 158,
     "metadata": {},
     "output_type": "execute_result"
    },
    {
     "data": {
      "image/png": "[encoded data removed]",
      "text/plain": [
       "<Figure size 432x288 with 1 Axes>"
      ]
     },
     "metadata": {
      "needs_background": "light"
     },
     "output_type": "display_data"
    }
   ],
   "source": [
    "Live[Live['num_likes'] < 3000].num_likes.plot(kind = 'hist')\n",
    "plt.xlabel('number of likes')\n",
    "plt.title('Histogram plot of number of likes')\n",
    "\n",
    "Live['num_likes'].describe()"
   ]
  },
  {
   "cell_type": "markdown",
   "metadata": {},
   "source": [
    "6. Hour - not many posts are in the afternoon between 12pm - 8pm"
   ]
  },
  {
   "cell_type": "code",
   "execution_count": 16,
   "metadata": {},
   "outputs": [
    {
     "data": {
      "text/plain": [
       "Text(0.5,1,'number of live seller posts by hour')"
      ]
     },
     "execution_count": 16,
     "metadata": {},
     "output_type": "execute_result"
    },
    {
     "data": {
      "image/png": "[encoded data removed]",
      "text/plain": [
       "<Figure size 432x288 with 1 Axes>"
      ]
     },
     "metadata": {
      "needs_background": "light"
     },
     "output_type": "display_data"
    }
   ],
   "source": [
    "Live_hour = Live.groupby('hour')\n",
    "Live_hour['hour'].count().plot(kind = 'bar')\n",
    "plt.xlabel('hour')\n",
    "plt.ylabel('statuses')\n",
    "plt.title('number of live seller posts by hour')\n",
    "\n",
    "# not many posts are in the afternoon from 12 - 8pm"
   ]
  },
  {
   "cell_type": "markdown",
   "metadata": {},
   "source": [
    "7. Time of day - Lets explore this in an easy to read pie graph"
   ]
  },
  {
   "cell_type": "code",
   "execution_count": 17,
   "metadata": {},
   "outputs": [],
   "source": [
    "# manipulating hour to night,midday or morning as 24 categorical hours is too many\n",
    "Live['hour'] = Live['hour'].astype(str)\n",
    "Live['hour'] = Live['hour'].replace('00', 'night')\n",
    "Live['hour'] = Live['hour'].replace('01', 'night')\n",
    "Live['hour'] = Live['hour'].replace('02', 'night')\n",
    "Live['hour'] = Live['hour'].replace('03', 'night')\n",
    "Live['hour'] = Live['hour'].replace('04', 'night')\n",
    "Live['hour'] = Live['hour'].replace('05', 'morning')\n",
    "Live['hour'] = Live['hour'].replace('06', 'morning')\n",
    "Live['hour'] = Live['hour'].replace('07', 'morning')\n",
    "Live['hour'] = Live['hour'].replace('08', 'morning')\n",
    "Live['hour'] = Live['hour'].replace('09', 'morning')\n",
    "Live['hour'] = Live['hour'].replace('10', 'morning')\n",
    "Live['hour'] = Live['hour'].replace('11', 'midday')\n",
    "Live['hour'] = Live['hour'].replace('12', 'midday')\n",
    "Live['hour'] = Live['hour'].replace('13', 'midday')\n",
    "Live['hour'] = Live['hour'].replace('14', 'midday')\n",
    "Live['hour'] = Live['hour'].replace('15', 'midday')\n",
    "Live['hour'] = Live['hour'].replace('16', 'midday')\n",
    "Live['hour'] = Live['hour'].replace('17', 'midday')\n",
    "Live['hour'] = Live['hour'].replace('18', 'midday')\n",
    "Live['hour'] = Live['hour'].replace('19', 'night')\n",
    "Live['hour'] = Live['hour'].replace('20', 'night')\n",
    "Live['hour'] = Live['hour'].replace('21', 'night')\n",
    "Live['hour'] = Live['hour'].replace('22', 'night')\n",
    "Live['hour'] = Live['hour'].replace('23', 'night')\n",
    "Live['hour'] = Live['hour'].replace('24', 'night')"
   ]
  },
  {
   "cell_type": "code",
   "execution_count": 18,
   "metadata": {},
   "outputs": [
    {
     "data": {
      "text/plain": [
       "night      3719\n",
       "morning    3001\n",
       "midday      330\n",
       "Name: hour, dtype: int64"
      ]
     },
     "execution_count": 18,
     "metadata": {},
     "output_type": "execute_result"
    },
    {
     "data": {
      "image/png": "[encoded data removed]",
      "text/plain": [
       "<Figure size 432x288 with 1 Axes>"
      ]
     },
     "metadata": {},
     "output_type": "display_data"
    }
   ],
   "source": [
    "Live_hour = Live.groupby('hour')\n",
    "Live_hour['hour'].count().plot(kind = 'pie', startangle = 90, autopct = '%.2f')\n",
    "plt.ylabel('time of day')\n",
    "plt.title('Pie chart showing percentage of live seller posts by time of day')\n",
    "\n",
    "\n",
    "Live['hour'].value_counts()"
   ]
  },
  {
   "cell_type": "markdown",
   "metadata": {},
   "source": [
    "8. Month - December has the most posts.  maybe it is a good time to target people due to public holidays"
   ]
  },
  {
   "cell_type": "code",
   "execution_count": 19,
   "metadata": {},
   "outputs": [
    {
     "data": {
      "text/plain": [
       "12    823\n",
       "05    733\n",
       "11    674\n",
       "03    666\n",
       "04    635\n",
       "06    604\n",
       "01    585\n",
       "02    513\n",
       "08    499\n",
       "09    486\n",
       "10    485\n",
       "07    347\n",
       "Name: month, dtype: int64"
      ]
     },
     "execution_count": 19,
     "metadata": {},
     "output_type": "execute_result"
    },
    {
     "data": {
      "image/png": "[encoded data removed]",
      "text/plain": [
       "<Figure size 432x288 with 1 Axes>"
      ]
     },
     "metadata": {
      "needs_background": "light"
     },
     "output_type": "display_data"
    }
   ],
   "source": [
    "# number of posts by month\n",
    "\n",
    "Live_month = Live.groupby('month')\n",
    "Live_month['month'].count().sort_values()\n",
    "Live_month['month'].count().plot(kind = 'bar')\n",
    "plt.ylabel('Status Posts')\n",
    "plt.title('December has the most posts')\n",
    "\n",
    "Live['month'].value_counts()"
   ]
  },
  {
   "cell_type": "markdown",
   "metadata": {},
   "source": [
    "9. Year "
   ]
  },
  {
   "cell_type": "code",
   "execution_count": 20,
   "metadata": {},
   "outputs": [
    {
     "data": {
      "text/plain": [
       "2018    2550\n",
       "2017    2253\n",
       "2012     589\n",
       "2016     588\n",
       "2013     500\n",
       "2015     337\n",
       "2014     233\n",
       "Name: year, dtype: int64"
      ]
     },
     "execution_count": 20,
     "metadata": {},
     "output_type": "execute_result"
    },
    {
     "data": {
      "image/png": "[encoded data removed]",
      "text/plain": [
       "<Figure size 432x288 with 1 Axes>"
      ]
     },
     "metadata": {
      "needs_background": "light"
     },
     "output_type": "display_data"
    }
   ],
   "source": [
    "# number of posts by year\n",
    "\n",
    "Live_year = Live.groupby('year')\n",
    "Live_year['year'].count().sort_values()\n",
    "Live_year['year'].count().plot(kind = 'bar')\n",
    "plt.ylabel('status posts')\n",
    "plt.title('Amount of posts have dramatically increased in the year 2017 and 2018')\n",
    "\n",
    "\n",
    "Live['year'].value_counts()"
   ]
  },
  {
   "cell_type": "markdown",
   "metadata": {},
   "source": [
    "# Explore the relationship between pairs of attributes"
   ]
  },
  {
   "cell_type": "markdown",
   "metadata": {},
   "source": [
    "Hypothesis 1: It was hypothesised that there would be a positive association between the number of comments and number of reactions.\n",
    "\n",
    "This is somewhat supported but the pattern is not linear."
   ]
  },
  {
   "cell_type": "code",
   "execution_count": 21,
   "metadata": {},
   "outputs": [
    {
     "data": {
      "text/plain": [
       "<matplotlib.axes._subplots.AxesSubplot at 0xa72ee48>"
      ]
     },
     "execution_count": 21,
     "metadata": {},
     "output_type": "execute_result"
    },
    {
     "data": {
      "image/png": "[encoded data removed]",
      "text/plain": [
       "<Figure size 432x288 with 1 Axes>"
      ]
     },
     "metadata": {
      "needs_background": "light"
     },
     "output_type": "display_data"
    }
   ],
   "source": [
    "Live.plot(kind = 'scatter', x = 'num_reactions', y = 'num_comments')"
   ]
  },
  {
   "cell_type": "markdown",
   "metadata": {},
   "source": [
    "Hypothesis 2: It was hypothesised that there would be a positive association between the number of angrys and comments because the posts that trigger angry thoughts towards people will have people responding to show the frustration.\n",
    "\n",
    "This was actually found to have the opposite relationship possible because angrys are not used literally but more ironically. Another reasoning may be because people do not speak their mind but only react to it. "
   ]
  },
  {
   "cell_type": "code",
   "execution_count": 22,
   "metadata": {},
   "outputs": [
    {
     "data": {
      "text/plain": [
       "<matplotlib.axes._subplots.AxesSubplot at 0xb6adef0>"
      ]
     },
     "execution_count": 22,
     "metadata": {},
     "output_type": "execute_result"
    },
    {
     "data": {
      "image/png": "[encoded data removed]",
      "text/plain": [
       "<Figure size 432x288 with 1 Axes>"
      ]
     },
     "metadata": {
      "needs_background": "light"
     },
     "output_type": "display_data"
    }
   ],
   "source": [
    "Live.plot(kind = 'scatter', x = 'num_angrys', y = 'num_comments')"
   ]
  },
  {
   "cell_type": "markdown",
   "metadata": {},
   "source": [
    "Hypothesis 3: Hypothesised that there is a strong positive relationship between number of reactions and number of likes as they make up most of the reactions "
   ]
  },
  {
   "cell_type": "code",
   "execution_count": 23,
   "metadata": {},
   "outputs": [
    {
     "data": {
      "text/plain": [
       "<matplotlib.axes._subplots.AxesSubplot at 0xa526a20>"
      ]
     },
     "execution_count": 23,
     "metadata": {},
     "output_type": "execute_result"
    },
    {
     "data": {
      "image/png": "[encoded data removed]",
      "text/plain": [
       "<Figure size 432x288 with 1 Axes>"
      ]
     },
     "metadata": {
      "needs_background": "light"
     },
     "output_type": "display_data"
    }
   ],
   "source": [
    "Live.plot(kind = 'scatter', x = 'num_likes', y = 'num_reactions')"
   ]
  },
  {
   "cell_type": "markdown",
   "metadata": {},
   "source": [
    "Hypothesis 4: Previous studies have proposed that videos actually have the highest number of shares. Therefore it was hypothesised that the number of shares is largers in videos compared to photos. \n",
    "\n",
    "The hypothesis was supported as the majority of photos have less than 10 shares"
   ]
  },
  {
   "cell_type": "code",
   "execution_count": 140,
   "metadata": {},
   "outputs": [
    {
     "data": {
      "image/png": "[encoded data removed]",
      "text/plain": [
       "<Figure size 432x288 with 1 Axes>"
      ]
     },
     "metadata": {
      "needs_background": "light"
     },
     "output_type": "display_data"
    },
    {
     "data": {
      "image/png": "[encoded data removed]",
      "text/plain": [
       "<Figure size 432x288 with 1 Axes>"
      ]
     },
     "metadata": {
      "needs_background": "light"
     },
     "output_type": "display_data"
    }
   ],
   "source": [
    "Live_video = Live[Live['status_type'] == 'video'] # filter rows with videos\n",
    "Live_photo = Live[Live['status_type'] == 'photo'] # filter rows with photos\n",
    "# \n",
    "Live_video[Live_video['num_shares'] < 1600].num_shares.plot(kind = 'hist')\n",
    "plt.xlabel('number of shares')\n",
    "plt.title('Distribution of shares by videos')\n",
    "plt.show()\n",
    "\n",
    "Live_photo[Live_photo['num_shares'] < 80].num_shares.plot(kind = 'hist')\n",
    "plt.xlabel('number of shares')\n",
    "plt.title('Distribution of shares by Photos')\n",
    "plt.show()"
   ]
  },
  {
   "cell_type": "markdown",
   "metadata": {},
   "source": [
    "Hypothesis 5: The previous finding disocovered that live videos are superior for the number of shares. However it is believed that photos are still a useful medium over other types of statuses for increased shares. It is therefore hypothesised that links and statuses have the lowest amount of shares when used for selling. \n",
    "\n",
    "This hypothesis was not supported because links showed higher amounts of shares than photos.\n"
   ]
  },
  {
   "cell_type": "code",
   "execution_count": 25,
   "metadata": {},
   "outputs": [
    {
     "data": {
      "image/png": "[encoded data removed]",
      "text/plain": [
       "<Figure size 432x288 with 1 Axes>"
      ]
     },
     "metadata": {
      "needs_background": "light"
     },
     "output_type": "display_data"
    }
   ],
   "source": [
    "Live.boxplot(column = 'num_shares', by = 'status_type', showfliers= False, vert=False)  # without outliers\n",
    "plt.xlabel('number of shares')\n",
    "plt.ylabel('type')\n",
    "plt.title('Number of shares by content type')\n",
    "plt.show()\n"
   ]
  },
  {
   "cell_type": "markdown",
   "metadata": {},
   "source": [
    "Hypothesis 6: Photos are believed to have more reactions because of their accessibility compared to videos. It is therefore hypothesised that photos will have higher number of reactions compared to videos.\n",
    "\n",
    "This was found not to be the case, perhaps because live videos invoke more emotional feedback. "
   ]
  },
  {
   "cell_type": "code",
   "execution_count": 156,
   "metadata": {},
   "outputs": [
    {
     "data": {
      "image/png": "[encoded data removed]",
      "text/plain": [
       "<Figure size 432x288 with 1 Axes>"
      ]
     },
     "metadata": {
      "needs_background": "light"
     },
     "output_type": "display_data"
    },
    {
     "name": "stdout",
     "output_type": "stream",
     "text": [
      "(38L,)\n",
      "38 observations were filtered in the above histogram to display the distribution in finer detail\n"
     ]
    },
    {
     "data": {
      "image/png": "[encoded data removed]",
      "text/plain": [
       "<Figure size 432x288 with 1 Axes>"
      ]
     },
     "metadata": {
      "needs_background": "light"
     },
     "output_type": "display_data"
    }
   ],
   "source": [
    "# different way using loc. Select which row then which column\n",
    "# increase number of bins to see more fine grain detail\n",
    "Live_video.loc[Live_video['num_reactions'] < 2000, 'num_reactions'].plot(kind = 'hist', bins = 20)\n",
    "plt.xlabel('number of reactions')\n",
    "plt.title('Distribution of shares by videos')\n",
    "plt.show()\n",
    "\n",
    "print(Live_video.loc[Live_video['num_reactions']  > 2000, 'num_reactions'].shape)\n",
    "print('38 observations were filtered in the above histogram to display the distribution in finer detail')\n",
    "\n",
    "Live_photo[Live_photo['num_reactions'] < 2000].num_reactions.plot(kind = 'hist', bins = 20)\n",
    "plt.xlabel('number of reactions')\n",
    "plt.title('Distribution of reactions by photos')\n",
    "plt.show()\n"
   ]
  },
  {
   "cell_type": "markdown",
   "metadata": {},
   "source": [
    "Hypothesis 7: By breaking down the types of reactions, we can see in a more detailed manner the type of content that is being reacted to. It is hypothesised that photos would have the most likes due to the previous belief of their ease of accessibility.\n",
    "\n",
    "Status actually displaydd the highest amount of likes on average while photos displayed the least"
   ]
  },
  {
   "cell_type": "code",
   "execution_count": 27,
   "metadata": {},
   "outputs": [
    {
     "data": {
      "text/plain": [
       "<matplotlib.axes._subplots.AxesSubplot at 0xe1362b0>"
      ]
     },
     "execution_count": 27,
     "metadata": {},
     "output_type": "execute_result"
    },
    {
     "data": {
      "image/png": "[encoded data removed]",
      "text/plain": [
       "<Figure size 432x288 with 1 Axes>"
      ]
     },
     "metadata": {
      "needs_background": "light"
     },
     "output_type": "display_data"
    }
   ],
   "source": [
    "# boxplots are also a good way to show the dsitribution\n",
    "Live.boxplot(column = 'num_likes', by = 'status_type', showfliers= False, vert=False)\n"
   ]
  },
  {
   "cell_type": "markdown",
   "metadata": {},
   "source": [
    "Hypothesis 8: Hypothesised that the surge in live videos over the years has also resulted in the growth of shares\n",
    "\n",
    "This is supported because the other status types have not shown much growth over the years but shares have been shown to increase."
   ]
  },
  {
   "cell_type": "code",
   "execution_count": 28,
   "metadata": {},
   "outputs": [
    {
     "data": {
      "text/plain": [
       "<matplotlib.axes._subplots.AxesSubplot at 0xb39bc18>"
      ]
     },
     "execution_count": 28,
     "metadata": {},
     "output_type": "execute_result"
    },
    {
     "data": {
      "image/png": "[encoded data removed]",
      "text/plain": [
       "<Figure size 432x288 with 1 Axes>"
      ]
     },
     "metadata": {
      "needs_background": "light"
     },
     "output_type": "display_data"
    }
   ],
   "source": [
    "import seaborn as sns\n",
    "sns.boxplot(x=\"status_type\",y=\"num_shares\",hue=\"year\",data=Live, palette=\"coolwarm\", showfliers= False)"
   ]
  },
  {
   "cell_type": "markdown",
   "metadata": {},
   "source": [
    "Hypothesis 9: Positive correlation between the number of sads and angrys because they both evoke negative responses.\n",
    "\n",
    "The relationship is difficult to determine due to the low number of these negative reactions in a live selling post. "
   ]
  },
  {
   "cell_type": "code",
   "execution_count": 29,
   "metadata": {},
   "outputs": [
    {
     "data": {
      "text/plain": [
       "Text(0.5,1,'Relationship between angry reactions and sad reactions')"
      ]
     },
     "execution_count": 29,
     "metadata": {},
     "output_type": "execute_result"
    },
    {
     "data": {
      "image/png": "[encoded data removed]",
      "text/plain": [
       "<Figure size 432x288 with 1 Axes>"
      ]
     },
     "metadata": {
      "needs_background": "light"
     },
     "output_type": "display_data"
    }
   ],
   "source": [
    "Live.plot(kind = 'scatter', x = 'num_sads', y = 'num_angrys')\n",
    "plt.title('Relationship between angry reactions and sad reactions')"
   ]
  },
  {
   "cell_type": "markdown",
   "metadata": {},
   "source": [
    "Hypothesis 10: It was hypothesised that there would not be any strong correlations between the number of shares and reactions because one is more engaging and evoke stronger emotions (shares) than the other (reactions).\n",
    "\n",
    "The hypothesis was supported because the relationship is not evident from first glance due to the weak positive correlation."
   ]
  },
  {
   "cell_type": "code",
   "execution_count": 30,
   "metadata": {},
   "outputs": [
    {
     "data": {
      "text/plain": [
       "Text(0.5,1,'Relationship between shares and reactions')"
      ]
     },
     "execution_count": 30,
     "metadata": {},
     "output_type": "execute_result"
    },
    {
     "data": {
      "image/png": "[encoded data removed]",
      "text/plain": [
       "<Figure size 432x288 with 1 Axes>"
      ]
     },
     "metadata": {
      "needs_background": "light"
     },
     "output_type": "display_data"
    }
   ],
   "source": [
    "Live.plot(kind = 'scatter', x = 'num_reactions', y = 'num_shares')\n",
    "plt.title('Relationship between shares and reactions')"
   ]
  },
  {
   "cell_type": "markdown",
   "metadata": {},
   "source": [
    "# Data Modelling\n",
    "\n",
    "Clustering creates unique groups. Exploratory analysis of the different clusters are explored with descriptve statistics to determine the best clusters that have the highest number of shares."
   ]
  },
  {
   "cell_type": "markdown",
   "metadata": {},
   "source": [
    "Preparing the data"
   ]
  },
  {
   "cell_type": "code",
   "execution_count": 31,
   "metadata": {},
   "outputs": [
    {
     "data": {
      "text/html": [
       "<div>\n",
       "<style scoped>\n",
       "    .dataframe tbody tr th:only-of-type {\n",
       "        vertical-align: middle;\n",
       "    }\n",
       "\n",
       "    .dataframe tbody tr th {\n",
       "        vertical-align: top;\n",
       "    }\n",
       "\n",
       "    .dataframe thead th {\n",
       "        text-align: right;\n",
       "    }\n",
       "</style>\n",
       "<table border=\"1\" class=\"dataframe\">\n",
       "  <thead>\n",
       "    <tr style=\"text-align: right;\">\n",
       "      <th></th>\n",
       "      <th>status_type</th>\n",
       "      <th>num_reactions</th>\n",
       "      <th>num_comments</th>\n",
       "      <th>num_shares</th>\n",
       "      <th>num_likes</th>\n",
       "      <th>num_loves</th>\n",
       "      <th>num_wows</th>\n",
       "      <th>num_hahas</th>\n",
       "      <th>num_sads</th>\n",
       "      <th>num_angrys</th>\n",
       "    </tr>\n",
       "  </thead>\n",
       "  <tbody>\n",
       "    <tr>\n",
       "      <th>0</th>\n",
       "      <td>video</td>\n",
       "      <td>529</td>\n",
       "      <td>512</td>\n",
       "      <td>262</td>\n",
       "      <td>432</td>\n",
       "      <td>92</td>\n",
       "      <td>3</td>\n",
       "      <td>1</td>\n",
       "      <td>1</td>\n",
       "      <td>0</td>\n",
       "    </tr>\n",
       "    <tr>\n",
       "      <th>1</th>\n",
       "      <td>photo</td>\n",
       "      <td>150</td>\n",
       "      <td>0</td>\n",
       "      <td>0</td>\n",
       "      <td>150</td>\n",
       "      <td>0</td>\n",
       "      <td>0</td>\n",
       "      <td>0</td>\n",
       "      <td>0</td>\n",
       "      <td>0</td>\n",
       "    </tr>\n",
       "    <tr>\n",
       "      <th>2</th>\n",
       "      <td>video</td>\n",
       "      <td>227</td>\n",
       "      <td>236</td>\n",
       "      <td>57</td>\n",
       "      <td>204</td>\n",
       "      <td>21</td>\n",
       "      <td>1</td>\n",
       "      <td>1</td>\n",
       "      <td>0</td>\n",
       "      <td>0</td>\n",
       "    </tr>\n",
       "    <tr>\n",
       "      <th>3</th>\n",
       "      <td>photo</td>\n",
       "      <td>111</td>\n",
       "      <td>0</td>\n",
       "      <td>0</td>\n",
       "      <td>111</td>\n",
       "      <td>0</td>\n",
       "      <td>0</td>\n",
       "      <td>0</td>\n",
       "      <td>0</td>\n",
       "      <td>0</td>\n",
       "    </tr>\n",
       "    <tr>\n",
       "      <th>4</th>\n",
       "      <td>photo</td>\n",
       "      <td>213</td>\n",
       "      <td>0</td>\n",
       "      <td>0</td>\n",
       "      <td>204</td>\n",
       "      <td>9</td>\n",
       "      <td>0</td>\n",
       "      <td>0</td>\n",
       "      <td>0</td>\n",
       "      <td>0</td>\n",
       "    </tr>\n",
       "  </tbody>\n",
       "</table>\n",
       "</div>"
      ],
      "text/plain": [
       "  status_type  num_reactions  num_comments  num_shares  num_likes  num_loves  \\\n",
       "0       video            529           512         262        432         92   \n",
       "1       photo            150             0           0        150          0   \n",
       "2       video            227           236          57        204         21   \n",
       "3       photo            111             0           0        111          0   \n",
       "4       photo            213             0           0        204          9   \n",
       "\n",
       "   num_wows  num_hahas  num_sads  num_angrys  \n",
       "0         3          1         1           0  \n",
       "1         0          0         0           0  \n",
       "2         1          1         0           0  \n",
       "3         0          0         0           0  \n",
       "4         0          0         0           0  "
      ]
     },
     "execution_count": 31,
     "metadata": {},
     "output_type": "execute_result"
    }
   ],
   "source": [
    "Live = Live_cleaned\n",
    "\n",
    "# dropping variables not used in the df\n",
    "Live = Live.drop([\"year\", \"qtr\", \"hour\"], axis = \"columns\") # without month\n",
    "Live = Live.drop(['status_published'], axis = 1)\n",
    "Live = Live.drop(['month'], axis = 1) \n",
    "Live.head()"
   ]
  },
  {
   "cell_type": "code",
   "execution_count": 32,
   "metadata": {},
   "outputs": [],
   "source": [
    "# remove the variable we want to evaluate as including it will bias the clustering\n",
    "target = Live['status_type'] # set the type of status (video, photo, link or status) as target because \n",
    "df = Live # rename the dataframe\n",
    "df = df.drop(['status_type'], axis = 1) # delete status type as we already set to target\n"
   ]
  },
  {
   "cell_type": "code",
   "execution_count": 33,
   "metadata": {},
   "outputs": [
    {
     "name": "stderr",
     "output_type": "stream",
     "text": [
      "C:\\Users\\3hoan\\Anaconda2\\lib\\site-packages\\sklearn\\preprocessing\\data.py:645: DataConversionWarning: Data with input dtype int64 were all converted to float64 by StandardScaler.\n",
      "  return self.partial_fit(X, y)\n",
      "C:\\Users\\3hoan\\Anaconda2\\lib\\site-packages\\ipykernel_launcher.py:8: DataConversionWarning: Data with input dtype int64 were all converted to float64 by StandardScaler.\n",
      "  \n"
     ]
    },
    {
     "data": {
      "text/plain": [
       "array([[ 0.64610394,  0.32335035,  1.6868788 , ...,  0.07671305,\n",
       "         0.47357035, -0.15574803],\n",
       "       [-0.17319166, -0.25220622, -0.3041444 , ..., -0.17600986,\n",
       "        -0.152587  , -0.15574803],\n",
       "       [-0.00673846,  0.01308938,  0.12901714, ...,  0.07671305,\n",
       "        -0.152587  , -0.15574803],\n",
       "       ...,\n",
       "       [-0.49312768, -0.25220622, -0.3041444 , ..., -0.17600986,\n",
       "        -0.152587  , -0.15574803],\n",
       "       [ 0.26131603, -0.23871662, -0.13695924, ..., -0.17600986,\n",
       "        -0.152587  , -0.15574803],\n",
       "       [-0.46070173, -0.25220622, -0.3041444 , ..., -0.17600986,\n",
       "        -0.152587  , -0.15574803]])"
      ]
     },
     "execution_count": 33,
     "metadata": {},
     "output_type": "execute_result"
    }
   ],
   "source": [
    "# normalise the data\n",
    "from sklearn.preprocessing import StandardScaler # scale down the values to sd = 1 mean = 0\n",
    "# from sklearn.preprocessing import MinMaxScaler # another option that scales values between 0 and 1\n",
    "\n",
    "# normalise the data as they were from different ranges \n",
    "scaler = StandardScaler()\n",
    "scaler.fit(df)\n",
    "scaled_data = scaler.transform(df) \n",
    "scaled_data # now has a std of 1 and mean of 0 therefore any negative value is below the mean?"
   ]
  },
  {
   "cell_type": "code",
   "execution_count": 34,
   "metadata": {},
   "outputs": [
    {
     "name": "stdout",
     "output_type": "stream",
     "text": [
      "1.0\n",
      "-1.1198467072657214e-18\n"
     ]
    }
   ],
   "source": [
    "print(scaled_data.std()) # std of 1\n",
    "print(scaled_data.mean()) # mean of 0 "
   ]
  },
  {
   "cell_type": "code",
   "execution_count": 35,
   "metadata": {},
   "outputs": [],
   "source": [
    "data = scaled_data"
   ]
  },
  {
   "cell_type": "code",
   "execution_count": 36,
   "metadata": {},
   "outputs": [],
   "source": [
    "import numpy as np\n",
    "import matplotlib.pyplot as plt\n",
    "from sklearn.cluster import KMeans"
   ]
  },
  {
   "cell_type": "markdown",
   "metadata": {},
   "source": [
    "K-means with 4 clusters for the four status types"
   ]
  },
  {
   "cell_type": "code",
   "execution_count": 37,
   "metadata": {},
   "outputs": [],
   "source": [
    "# k means\n",
    "\n",
    "K_dataset_1 = 4\n",
    "km_1 = KMeans(n_clusters=K_dataset_1)\n",
    "labels_1 = km_1.fit(data).labels_"
   ]
  },
  {
   "cell_type": "code",
   "execution_count": 38,
   "metadata": {},
   "outputs": [
    {
     "data": {
      "image/png": "[encoded data removed]",
      "text/plain": [
       "<Figure size 432x288 with 1 Axes>"
      ]
     },
     "metadata": {
      "needs_background": "light"
     },
     "output_type": "display_data"
    }
   ],
   "source": [
    "plt.scatter(data[:,0], data[:,2], c=labels_1, alpha=0.8, s = 5.0, lw = 0)\n",
    "plt.scatter(km_1.cluster_centers_[:,0], km_1.cluster_centers_[:,1], s=100, c=np.unique(labels_1), lw=0.2)\n",
    "plt.title('k-means clustering, k = 4')\n",
    "plt.xlabel('number of reactions')\n",
    "plt.ylabel('number of shares')\n",
    "plt.show()"
   ]
  },
  {
   "cell_type": "code",
   "execution_count": 39,
   "metadata": {},
   "outputs": [],
   "source": [
    "# return back to df\n",
    "df = pd.DataFrame(data=data)"
   ]
  },
  {
   "cell_type": "code",
   "execution_count": 40,
   "metadata": {},
   "outputs": [],
   "source": [
    "# rename variables\n",
    "df.columns = ['num_reactions', 'num_comments', 'num_shares', 'num_likes', 'num_loves', 'num_wows', 'num_hahas', 'num_sads', 'num_angrys']"
   ]
  },
  {
   "cell_type": "code",
   "execution_count": 41,
   "metadata": {},
   "outputs": [
    {
     "name": "stdout",
     "output_type": "stream",
     "text": [
      "                   c\n",
      "cluster target      \n",
      "0       link      49\n",
      "        photo   4051\n",
      "        status   295\n",
      "        video   1869\n",
      "1       link      14\n",
      "        photo    212\n",
      "        status    70\n",
      "        video     76\n",
      "2       photo      1\n",
      "        video     33\n",
      "3       photo     24\n",
      "        video    356\n"
     ]
    }
   ],
   "source": [
    "from sklearn import cluster\n",
    "import pandas as pd\n",
    "import numpy as np\n",
    "\n",
    "# build clustering model\n",
    "# The k means model is built, where the argument k = 4; the remaining arguments keep their default values\n",
    "\n",
    "model = cluster.KMeans(n_clusters = 4, random_state=23)\n",
    "# n_clusters = 4 clusters, for each of the status types\n",
    "# random_state = 24 determines random number generation for centroid initialization (the seed?)\n",
    "\n",
    "fit = model.fit(df) # fit the model we created\n",
    "\n",
    "df[\"cluster\"] = fit.predict(df)\n",
    "df[\"target\"] = target\n",
    "df[\"c\"] = \"count\"\n",
    "clustering_result = df[[\"cluster\", \"target\", \"c\"]].groupby([\"cluster\", \"target\"]).agg(\"count\")\n",
    "print(clustering_result) # 356 videos that were more different \n",
    "\n"
   ]
  },
  {
   "cell_type": "code",
   "execution_count": 42,
   "metadata": {},
   "outputs": [
    {
     "data": {
      "text/html": [
       "<div>\n",
       "<style scoped>\n",
       "    .dataframe tbody tr th:only-of-type {\n",
       "        vertical-align: middle;\n",
       "    }\n",
       "\n",
       "    .dataframe tbody tr th {\n",
       "        vertical-align: top;\n",
       "    }\n",
       "\n",
       "    .dataframe thead th {\n",
       "        text-align: right;\n",
       "    }\n",
       "</style>\n",
       "<table border=\"1\" class=\"dataframe\">\n",
       "  <thead>\n",
       "    <tr style=\"text-align: right;\">\n",
       "      <th></th>\n",
       "      <th>num_reactions</th>\n",
       "      <th>num_comments</th>\n",
       "      <th>num_shares</th>\n",
       "      <th>num_likes</th>\n",
       "      <th>num_loves</th>\n",
       "      <th>num_wows</th>\n",
       "      <th>num_hahas</th>\n",
       "      <th>num_sads</th>\n",
       "      <th>num_angrys</th>\n",
       "      <th>cluster</th>\n",
       "    </tr>\n",
       "  </thead>\n",
       "  <tbody>\n",
       "    <tr>\n",
       "      <th>count</th>\n",
       "      <td>380.000000</td>\n",
       "      <td>380.000000</td>\n",
       "      <td>380.000000</td>\n",
       "      <td>380.000000</td>\n",
       "      <td>380.000000</td>\n",
       "      <td>380.000000</td>\n",
       "      <td>380.000000</td>\n",
       "      <td>380.000000</td>\n",
       "      <td>380.000000</td>\n",
       "      <td>380.0</td>\n",
       "    </tr>\n",
       "    <tr>\n",
       "      <th>mean</th>\n",
       "      <td>0.666623</td>\n",
       "      <td>2.814449</td>\n",
       "      <td>2.668292</td>\n",
       "      <td>0.451583</td>\n",
       "      <td>2.373032</td>\n",
       "      <td>0.288553</td>\n",
       "      <td>1.188694</td>\n",
       "      <td>1.335361</td>\n",
       "      <td>1.651117</td>\n",
       "      <td>3.0</td>\n",
       "    </tr>\n",
       "    <tr>\n",
       "      <th>std</th>\n",
       "      <td>0.924916</td>\n",
       "      <td>2.941769</td>\n",
       "      <td>1.996894</td>\n",
       "      <td>0.818266</td>\n",
       "      <td>1.939980</td>\n",
       "      <td>0.694315</td>\n",
       "      <td>1.511841</td>\n",
       "      <td>3.394311</td>\n",
       "      <td>3.549268</td>\n",
       "      <td>0.0</td>\n",
       "    </tr>\n",
       "    <tr>\n",
       "      <th>min</th>\n",
       "      <td>-0.395850</td>\n",
       "      <td>-0.252206</td>\n",
       "      <td>-0.304144</td>\n",
       "      <td>-0.391694</td>\n",
       "      <td>-0.318454</td>\n",
       "      <td>-0.147879</td>\n",
       "      <td>-0.176010</td>\n",
       "      <td>-0.152587</td>\n",
       "      <td>-0.155748</td>\n",
       "      <td>3.0</td>\n",
       "    </tr>\n",
       "    <tr>\n",
       "      <th>25%</th>\n",
       "      <td>0.075407</td>\n",
       "      <td>1.039986</td>\n",
       "      <td>1.426602</td>\n",
       "      <td>-0.082977</td>\n",
       "      <td>0.932481</td>\n",
       "      <td>-0.033187</td>\n",
       "      <td>0.329436</td>\n",
       "      <td>-0.152587</td>\n",
       "      <td>-0.155748</td>\n",
       "      <td>3.0</td>\n",
       "    </tr>\n",
       "    <tr>\n",
       "      <th>50%</th>\n",
       "      <td>0.265639</td>\n",
       "      <td>1.798214</td>\n",
       "      <td>2.264428</td>\n",
       "      <td>0.087791</td>\n",
       "      <td>2.058323</td>\n",
       "      <td>0.081504</td>\n",
       "      <td>0.834882</td>\n",
       "      <td>0.473570</td>\n",
       "      <td>1.220221</td>\n",
       "      <td>3.0</td>\n",
       "    </tr>\n",
       "    <tr>\n",
       "      <th>75%</th>\n",
       "      <td>0.838498</td>\n",
       "      <td>4.037208</td>\n",
       "      <td>3.544914</td>\n",
       "      <td>0.630132</td>\n",
       "      <td>3.290494</td>\n",
       "      <td>0.310888</td>\n",
       "      <td>1.593051</td>\n",
       "      <td>1.099728</td>\n",
       "      <td>2.596191</td>\n",
       "      <td>3.0</td>\n",
       "    </tr>\n",
       "    <tr>\n",
       "      <th>max</th>\n",
       "      <td>4.199988</td>\n",
       "      <td>23.343365</td>\n",
       "      <td>12.128352</td>\n",
       "      <td>3.450862</td>\n",
       "      <td>11.740561</td>\n",
       "      <td>6.160161</td>\n",
       "      <td>14.229196</td>\n",
       "      <td>31.781438</td>\n",
       "      <td>42.499304</td>\n",
       "      <td>3.0</td>\n",
       "    </tr>\n",
       "  </tbody>\n",
       "</table>\n",
       "</div>"
      ],
      "text/plain": [
       "       num_reactions  num_comments  num_shares   num_likes   num_loves  \\\n",
       "count     380.000000    380.000000  380.000000  380.000000  380.000000   \n",
       "mean        0.666623      2.814449    2.668292    0.451583    2.373032   \n",
       "std         0.924916      2.941769    1.996894    0.818266    1.939980   \n",
       "min        -0.395850     -0.252206   -0.304144   -0.391694   -0.318454   \n",
       "25%         0.075407      1.039986    1.426602   -0.082977    0.932481   \n",
       "50%         0.265639      1.798214    2.264428    0.087791    2.058323   \n",
       "75%         0.838498      4.037208    3.544914    0.630132    3.290494   \n",
       "max         4.199988     23.343365   12.128352    3.450862   11.740561   \n",
       "\n",
       "         num_wows   num_hahas    num_sads  num_angrys  cluster  \n",
       "count  380.000000  380.000000  380.000000  380.000000    380.0  \n",
       "mean     0.288553    1.188694    1.335361    1.651117      3.0  \n",
       "std      0.694315    1.511841    3.394311    3.549268      0.0  \n",
       "min     -0.147879   -0.176010   -0.152587   -0.155748      3.0  \n",
       "25%     -0.033187    0.329436   -0.152587   -0.155748      3.0  \n",
       "50%      0.081504    0.834882    0.473570    1.220221      3.0  \n",
       "75%      0.310888    1.593051    1.099728    2.596191      3.0  \n",
       "max      6.160161   14.229196   31.781438   42.499304      3.0  "
      ]
     },
     "execution_count": 42,
     "metadata": {},
     "output_type": "execute_result"
    }
   ],
   "source": [
    "cluster_three = df[df['cluster'] == 3] \n",
    "cluster_three.describe() \n",
    "# average engagement metrics\n",
    "# reactions 0.667\n",
    "# num comments 2.814\n",
    "# num shares = 2.668"
   ]
  },
  {
   "cell_type": "code",
   "execution_count": 43,
   "metadata": {},
   "outputs": [
    {
     "data": {
      "text/html": [
       "<div>\n",
       "<style scoped>\n",
       "    .dataframe tbody tr th:only-of-type {\n",
       "        vertical-align: middle;\n",
       "    }\n",
       "\n",
       "    .dataframe tbody tr th {\n",
       "        vertical-align: top;\n",
       "    }\n",
       "\n",
       "    .dataframe thead th {\n",
       "        text-align: right;\n",
       "    }\n",
       "</style>\n",
       "<table border=\"1\" class=\"dataframe\">\n",
       "  <thead>\n",
       "    <tr style=\"text-align: right;\">\n",
       "      <th></th>\n",
       "      <th>num_reactions</th>\n",
       "      <th>num_comments</th>\n",
       "      <th>num_shares</th>\n",
       "      <th>num_likes</th>\n",
       "      <th>num_loves</th>\n",
       "      <th>num_wows</th>\n",
       "      <th>num_hahas</th>\n",
       "      <th>num_sads</th>\n",
       "      <th>num_angrys</th>\n",
       "      <th>cluster</th>\n",
       "      <th>target</th>\n",
       "      <th>c</th>\n",
       "    </tr>\n",
       "  </thead>\n",
       "  <tbody>\n",
       "    <tr>\n",
       "      <th>6</th>\n",
       "      <td>0.589899</td>\n",
       "      <td>0.438012</td>\n",
       "      <td>0.243007</td>\n",
       "      <td>0.451577</td>\n",
       "      <td>1.432855</td>\n",
       "      <td>0.999037</td>\n",
       "      <td>0.329436</td>\n",
       "      <td>-0.152587</td>\n",
       "      <td>3.972160</td>\n",
       "      <td>3</td>\n",
       "      <td>video</td>\n",
       "      <td>count</td>\n",
       "    </tr>\n",
       "    <tr>\n",
       "      <th>99</th>\n",
       "      <td>2.730011</td>\n",
       "      <td>1.972455</td>\n",
       "      <td>5.418147</td>\n",
       "      <td>2.487441</td>\n",
       "      <td>3.159146</td>\n",
       "      <td>0.884346</td>\n",
       "      <td>0.582159</td>\n",
       "      <td>4.856672</td>\n",
       "      <td>1.220221</td>\n",
       "      <td>3</td>\n",
       "      <td>video</td>\n",
       "      <td>count</td>\n",
       "    </tr>\n",
       "    <tr>\n",
       "      <th>107</th>\n",
       "      <td>-0.086722</td>\n",
       "      <td>-0.252206</td>\n",
       "      <td>-0.068565</td>\n",
       "      <td>-0.097995</td>\n",
       "      <td>-0.318454</td>\n",
       "      <td>-0.147879</td>\n",
       "      <td>-0.176010</td>\n",
       "      <td>11.744403</td>\n",
       "      <td>-0.155748</td>\n",
       "      <td>3</td>\n",
       "      <td>photo</td>\n",
       "      <td>count</td>\n",
       "    </tr>\n",
       "    <tr>\n",
       "      <th>128</th>\n",
       "      <td>0.989819</td>\n",
       "      <td>-0.252206</td>\n",
       "      <td>-0.304144</td>\n",
       "      <td>0.927724</td>\n",
       "      <td>0.532182</td>\n",
       "      <td>-0.147879</td>\n",
       "      <td>-0.176010</td>\n",
       "      <td>13.622875</td>\n",
       "      <td>-0.155748</td>\n",
       "      <td>3</td>\n",
       "      <td>video</td>\n",
       "      <td>count</td>\n",
       "    </tr>\n",
       "    <tr>\n",
       "      <th>198</th>\n",
       "      <td>0.736897</td>\n",
       "      <td>0.746025</td>\n",
       "      <td>0.508983</td>\n",
       "      <td>0.542801</td>\n",
       "      <td>2.358547</td>\n",
       "      <td>-0.033187</td>\n",
       "      <td>0.076713</td>\n",
       "      <td>0.473570</td>\n",
       "      <td>2.596191</td>\n",
       "      <td>3</td>\n",
       "      <td>video</td>\n",
       "      <td>count</td>\n",
       "    </tr>\n",
       "  </tbody>\n",
       "</table>\n",
       "</div>"
      ],
      "text/plain": [
       "     num_reactions  num_comments  num_shares  num_likes  num_loves  num_wows  \\\n",
       "6         0.589899      0.438012    0.243007   0.451577   1.432855  0.999037   \n",
       "99        2.730011      1.972455    5.418147   2.487441   3.159146  0.884346   \n",
       "107      -0.086722     -0.252206   -0.068565  -0.097995  -0.318454 -0.147879   \n",
       "128       0.989819     -0.252206   -0.304144   0.927724   0.532182 -0.147879   \n",
       "198       0.736897      0.746025    0.508983   0.542801   2.358547 -0.033187   \n",
       "\n",
       "     num_hahas   num_sads  num_angrys  cluster target      c  \n",
       "6     0.329436  -0.152587    3.972160        3  video  count  \n",
       "99    0.582159   4.856672    1.220221        3  video  count  \n",
       "107  -0.176010  11.744403   -0.155748        3  photo  count  \n",
       "128  -0.176010  13.622875   -0.155748        3  video  count  \n",
       "198   0.076713   0.473570    2.596191        3  video  count  "
      ]
     },
     "execution_count": 43,
     "metadata": {},
     "output_type": "execute_result"
    }
   ],
   "source": [
    "cluster_three.head()"
   ]
  },
  {
   "cell_type": "code",
   "execution_count": 44,
   "metadata": {},
   "outputs": [
    {
     "data": {
      "text/plain": [
       "0    6264\n",
       "3     380\n",
       "1     372\n",
       "2      34\n",
       "Name: cluster, dtype: int64"
      ]
     },
     "execution_count": 44,
     "metadata": {},
     "output_type": "execute_result"
    }
   ],
   "source": [
    "df['cluster'].value_counts() # shows that it was difficult to cluster possibily due to imbalance in the data"
   ]
  },
  {
   "cell_type": "markdown",
   "metadata": {},
   "source": [
    "Trying with k = 6"
   ]
  },
  {
   "cell_type": "code",
   "execution_count": 45,
   "metadata": {},
   "outputs": [
    {
     "name": "stdout",
     "output_type": "stream",
     "text": [
      "                   c\n",
      "cluster target      \n",
      "0       link      49\n",
      "        photo   4030\n",
      "        status   287\n",
      "        video   1454\n",
      "1       photo     11\n",
      "        video      3\n",
      "2       video     25\n",
      "3       link      14\n",
      "        photo    222\n",
      "        status    78\n",
      "        video     77\n",
      "4       photo     19\n",
      "        video    645\n",
      "5       photo      6\n",
      "        video    130\n"
     ]
    }
   ],
   "source": [
    "# 6 clusters was able to find a cluster with 645 videos and another with 130 videos,\n",
    "df = pd.DataFrame(data=data)\n",
    "df.columns = ['num_reactions', 'num_comments', 'num_shares', 'num_likes', 'num_loves', 'num_wows', 'num_hahas', 'num_sads', 'num_angrys']\n",
    "model = cluster.KMeans(n_clusters = 6, random_state=23)\n",
    "fit = model.fit(df)\n",
    "df[\"cluster\"] = fit.predict(df)\n",
    "df[\"target\"] = target\n",
    "df[\"c\"] = \"count\"\n",
    "clustering_result = df[[\"cluster\", \"target\", \"c\"]].groupby([\"cluster\", \"target\"]).agg(\"count\")\n",
    "print(clustering_result)"
   ]
  },
  {
   "cell_type": "code",
   "execution_count": 46,
   "metadata": {},
   "outputs": [
    {
     "data": {
      "text/html": [
       "<div>\n",
       "<style scoped>\n",
       "    .dataframe tbody tr th:only-of-type {\n",
       "        vertical-align: middle;\n",
       "    }\n",
       "\n",
       "    .dataframe tbody tr th {\n",
       "        vertical-align: top;\n",
       "    }\n",
       "\n",
       "    .dataframe thead th {\n",
       "        text-align: right;\n",
       "    }\n",
       "</style>\n",
       "<table border=\"1\" class=\"dataframe\">\n",
       "  <thead>\n",
       "    <tr style=\"text-align: right;\">\n",
       "      <th></th>\n",
       "      <th>num_reactions</th>\n",
       "      <th>num_comments</th>\n",
       "      <th>num_shares</th>\n",
       "      <th>num_likes</th>\n",
       "      <th>num_loves</th>\n",
       "      <th>num_wows</th>\n",
       "      <th>num_hahas</th>\n",
       "      <th>num_sads</th>\n",
       "      <th>num_angrys</th>\n",
       "      <th>cluster</th>\n",
       "    </tr>\n",
       "  </thead>\n",
       "  <tbody>\n",
       "    <tr>\n",
       "      <th>count</th>\n",
       "      <td>664.000000</td>\n",
       "      <td>664.000000</td>\n",
       "      <td>664.000000</td>\n",
       "      <td>664.000000</td>\n",
       "      <td>664.000000</td>\n",
       "      <td>664.000000</td>\n",
       "      <td>664.000000</td>\n",
       "      <td>664.000000</td>\n",
       "      <td>664.000000</td>\n",
       "      <td>664.0</td>\n",
       "    </tr>\n",
       "    <tr>\n",
       "      <th>mean</th>\n",
       "      <td>0.085952</td>\n",
       "      <td>1.005253</td>\n",
       "      <td>1.409584</td>\n",
       "      <td>-0.038926</td>\n",
       "      <td>1.349020</td>\n",
       "      <td>0.022086</td>\n",
       "      <td>0.578733</td>\n",
       "      <td>0.276482</td>\n",
       "      <td>0.557104</td>\n",
       "      <td>4.0</td>\n",
       "    </tr>\n",
       "    <tr>\n",
       "      <th>std</th>\n",
       "      <td>0.397565</td>\n",
       "      <td>1.094380</td>\n",
       "      <td>1.008056</td>\n",
       "      <td>0.369577</td>\n",
       "      <td>0.923164</td>\n",
       "      <td>0.219020</td>\n",
       "      <td>1.104121</td>\n",
       "      <td>0.816451</td>\n",
       "      <td>1.391225</td>\n",
       "      <td>0.0</td>\n",
       "    </tr>\n",
       "    <tr>\n",
       "      <th>min</th>\n",
       "      <td>-0.395850</td>\n",
       "      <td>-0.249958</td>\n",
       "      <td>-0.304144</td>\n",
       "      <td>-0.391694</td>\n",
       "      <td>-0.318454</td>\n",
       "      <td>-0.147879</td>\n",
       "      <td>-0.176010</td>\n",
       "      <td>-0.152587</td>\n",
       "      <td>-0.155748</td>\n",
       "      <td>4.0</td>\n",
       "    </tr>\n",
       "    <tr>\n",
       "      <th>25%</th>\n",
       "      <td>-0.125634</td>\n",
       "      <td>0.258994</td>\n",
       "      <td>0.795858</td>\n",
       "      <td>-0.224820</td>\n",
       "      <td>0.726077</td>\n",
       "      <td>-0.147879</td>\n",
       "      <td>0.076713</td>\n",
       "      <td>-0.152587</td>\n",
       "      <td>-0.155748</td>\n",
       "      <td>4.0</td>\n",
       "    </tr>\n",
       "    <tr>\n",
       "      <th>50%</th>\n",
       "      <td>-0.003496</td>\n",
       "      <td>0.712301</td>\n",
       "      <td>1.234719</td>\n",
       "      <td>-0.131370</td>\n",
       "      <td>1.207687</td>\n",
       "      <td>-0.033187</td>\n",
       "      <td>0.329436</td>\n",
       "      <td>-0.152587</td>\n",
       "      <td>-0.155748</td>\n",
       "      <td>4.0</td>\n",
       "    </tr>\n",
       "    <tr>\n",
       "      <th>75%</th>\n",
       "      <td>0.151068</td>\n",
       "      <td>1.293197</td>\n",
       "      <td>1.833166</td>\n",
       "      <td>0.002129</td>\n",
       "      <td>1.858173</td>\n",
       "      <td>0.081504</td>\n",
       "      <td>0.834882</td>\n",
       "      <td>0.473570</td>\n",
       "      <td>1.220221</td>\n",
       "      <td>4.0</td>\n",
       "    </tr>\n",
       "    <tr>\n",
       "      <th>max</th>\n",
       "      <td>2.835936</td>\n",
       "      <td>5.928282</td>\n",
       "      <td>9.271005</td>\n",
       "      <td>2.903514</td>\n",
       "      <td>5.185661</td>\n",
       "      <td>2.260645</td>\n",
       "      <td>14.229196</td>\n",
       "      <td>6.108986</td>\n",
       "      <td>13.603946</td>\n",
       "      <td>4.0</td>\n",
       "    </tr>\n",
       "  </tbody>\n",
       "</table>\n",
       "</div>"
      ],
      "text/plain": [
       "       num_reactions  num_comments  num_shares   num_likes   num_loves  \\\n",
       "count     664.000000    664.000000  664.000000  664.000000  664.000000   \n",
       "mean        0.085952      1.005253    1.409584   -0.038926    1.349020   \n",
       "std         0.397565      1.094380    1.008056    0.369577    0.923164   \n",
       "min        -0.395850     -0.249958   -0.304144   -0.391694   -0.318454   \n",
       "25%        -0.125634      0.258994    0.795858   -0.224820    0.726077   \n",
       "50%        -0.003496      0.712301    1.234719   -0.131370    1.207687   \n",
       "75%         0.151068      1.293197    1.833166    0.002129    1.858173   \n",
       "max         2.835936      5.928282    9.271005    2.903514    5.185661   \n",
       "\n",
       "         num_wows   num_hahas    num_sads  num_angrys  cluster  \n",
       "count  664.000000  664.000000  664.000000  664.000000    664.0  \n",
       "mean     0.022086    0.578733    0.276482    0.557104      4.0  \n",
       "std      0.219020    1.104121    0.816451    1.391225      0.0  \n",
       "min     -0.147879   -0.176010   -0.152587   -0.155748      4.0  \n",
       "25%     -0.147879    0.076713   -0.152587   -0.155748      4.0  \n",
       "50%     -0.033187    0.329436   -0.152587   -0.155748      4.0  \n",
       "75%      0.081504    0.834882    0.473570    1.220221      4.0  \n",
       "max      2.260645   14.229196    6.108986   13.603946      4.0  "
      ]
     },
     "execution_count": 46,
     "metadata": {},
     "output_type": "execute_result"
    }
   ],
   "source": [
    "# K means of 6\n",
    "cluster_four = df[df['cluster'] == 4] \n",
    "cluster_four.describe() \n",
    "# average engagement metrics\n",
    "# reactions 0.08595\n",
    "# num comments 1.05253\n",
    "# num shares = 1.409584\n",
    "# k means of 6th can separate 6 clusters better but k means of 4 seperates highly engaging videos better. \n",
    "# It is arguable more important to find meaningful clusters that can discover highly engaging content. "
   ]
  },
  {
   "cell_type": "code",
   "execution_count": 47,
   "metadata": {},
   "outputs": [
    {
     "data": {
      "image/png": "[encoded data removed]",
      "text/plain": [
       "<Figure size 432x288 with 1 Axes>"
      ]
     },
     "metadata": {
      "needs_background": "light"
     },
     "output_type": "display_data"
    }
   ],
   "source": [
    "# visualise 6 cluster\n",
    "K_dataset_1 = 6\n",
    "km_1 = KMeans(n_clusters=K_dataset_1)\n",
    "labels_1 = km_1.fit(data).labels_\n",
    "\n",
    "\n",
    "plt.scatter(data[:,0], data[:,2], c=labels_1, alpha=0.8, s = 5.0, lw = 0)\n",
    "plt.scatter(km_1.cluster_centers_[:,0], km_1.cluster_centers_[:,1], s=100, c=np.unique(labels_1), lw=0.2)\n",
    "\n",
    "plt.title('k-means clustering, k = 6')\n",
    "plt.xlabel('number of reactions')\n",
    "plt.ylabel('number of shares')\n",
    "plt.show()\n",
    "            "
   ]
  },
  {
   "cell_type": "markdown",
   "metadata": {},
   "source": [
    "# DBSCAN "
   ]
  },
  {
   "cell_type": "code",
   "execution_count": 48,
   "metadata": {},
   "outputs": [],
   "source": [
    "# lets try DBSCAN\n",
    "data = scaled_data # standardised data from earlier"
   ]
  },
  {
   "cell_type": "code",
   "execution_count": 49,
   "metadata": {},
   "outputs": [
    {
     "data": {
      "text/html": [
       "<div>\n",
       "<style scoped>\n",
       "    .dataframe tbody tr th:only-of-type {\n",
       "        vertical-align: middle;\n",
       "    }\n",
       "\n",
       "    .dataframe tbody tr th {\n",
       "        vertical-align: top;\n",
       "    }\n",
       "\n",
       "    .dataframe thead th {\n",
       "        text-align: right;\n",
       "    }\n",
       "</style>\n",
       "<table border=\"1\" class=\"dataframe\">\n",
       "  <thead>\n",
       "    <tr style=\"text-align: right;\">\n",
       "      <th></th>\n",
       "      <th>num_reactions</th>\n",
       "      <th>num_comments</th>\n",
       "      <th>num_shares</th>\n",
       "      <th>num_likes</th>\n",
       "      <th>num_loves</th>\n",
       "      <th>num_wows</th>\n",
       "      <th>num_hahas</th>\n",
       "      <th>num_sads</th>\n",
       "      <th>num_angrys</th>\n",
       "    </tr>\n",
       "  </thead>\n",
       "  <tbody>\n",
       "    <tr>\n",
       "      <th>0</th>\n",
       "      <td>0.646104</td>\n",
       "      <td>0.323350</td>\n",
       "      <td>1.686879</td>\n",
       "      <td>0.482727</td>\n",
       "      <td>1.983266</td>\n",
       "      <td>0.196196</td>\n",
       "      <td>0.076713</td>\n",
       "      <td>0.473570</td>\n",
       "      <td>-0.155748</td>\n",
       "    </tr>\n",
       "    <tr>\n",
       "      <th>1</th>\n",
       "      <td>-0.173192</td>\n",
       "      <td>-0.252206</td>\n",
       "      <td>-0.304144</td>\n",
       "      <td>-0.144720</td>\n",
       "      <td>-0.318454</td>\n",
       "      <td>-0.147879</td>\n",
       "      <td>-0.176010</td>\n",
       "      <td>-0.152587</td>\n",
       "      <td>-0.155748</td>\n",
       "    </tr>\n",
       "    <tr>\n",
       "      <th>2</th>\n",
       "      <td>-0.006738</td>\n",
       "      <td>0.013089</td>\n",
       "      <td>0.129017</td>\n",
       "      <td>-0.024571</td>\n",
       "      <td>0.206938</td>\n",
       "      <td>-0.033187</td>\n",
       "      <td>0.076713</td>\n",
       "      <td>-0.152587</td>\n",
       "      <td>-0.155748</td>\n",
       "    </tr>\n",
       "    <tr>\n",
       "      <th>3</th>\n",
       "      <td>-0.257499</td>\n",
       "      <td>-0.252206</td>\n",
       "      <td>-0.304144</td>\n",
       "      <td>-0.231495</td>\n",
       "      <td>-0.318454</td>\n",
       "      <td>-0.147879</td>\n",
       "      <td>-0.176010</td>\n",
       "      <td>-0.152587</td>\n",
       "      <td>-0.155748</td>\n",
       "    </tr>\n",
       "    <tr>\n",
       "      <th>4</th>\n",
       "      <td>-0.037003</td>\n",
       "      <td>-0.252206</td>\n",
       "      <td>-0.304144</td>\n",
       "      <td>-0.024571</td>\n",
       "      <td>-0.093286</td>\n",
       "      <td>-0.147879</td>\n",
       "      <td>-0.176010</td>\n",
       "      <td>-0.152587</td>\n",
       "      <td>-0.155748</td>\n",
       "    </tr>\n",
       "  </tbody>\n",
       "</table>\n",
       "</div>"
      ],
      "text/plain": [
       "   num_reactions  num_comments  num_shares  num_likes  num_loves  num_wows  \\\n",
       "0       0.646104      0.323350    1.686879   0.482727   1.983266  0.196196   \n",
       "1      -0.173192     -0.252206   -0.304144  -0.144720  -0.318454 -0.147879   \n",
       "2      -0.006738      0.013089    0.129017  -0.024571   0.206938 -0.033187   \n",
       "3      -0.257499     -0.252206   -0.304144  -0.231495  -0.318454 -0.147879   \n",
       "4      -0.037003     -0.252206   -0.304144  -0.024571  -0.093286 -0.147879   \n",
       "\n",
       "   num_hahas  num_sads  num_angrys  \n",
       "0   0.076713  0.473570   -0.155748  \n",
       "1  -0.176010 -0.152587   -0.155748  \n",
       "2   0.076713 -0.152587   -0.155748  \n",
       "3  -0.176010 -0.152587   -0.155748  \n",
       "4  -0.176010 -0.152587   -0.155748  "
      ]
     },
     "execution_count": 49,
     "metadata": {},
     "output_type": "execute_result"
    }
   ],
   "source": [
    "df = pd.DataFrame(data=data)\n",
    "df.columns = ['num_reactions', 'num_comments', 'num_shares', 'num_likes', 'num_loves', 'num_wows', 'num_hahas', 'num_sads', 'num_angrys']\n",
    "df.head()"
   ]
  },
  {
   "cell_type": "markdown",
   "metadata": {},
   "source": [
    "First try, randomly modelling with paramters eps = 0.5, min samples = 10"
   ]
  },
  {
   "cell_type": "code",
   "execution_count": 50,
   "metadata": {},
   "outputs": [
    {
     "data": {
      "text/html": [
       "<div>\n",
       "<style scoped>\n",
       "    .dataframe tbody tr th:only-of-type {\n",
       "        vertical-align: middle;\n",
       "    }\n",
       "\n",
       "    .dataframe tbody tr th {\n",
       "        vertical-align: top;\n",
       "    }\n",
       "\n",
       "    .dataframe thead th {\n",
       "        text-align: right;\n",
       "    }\n",
       "</style>\n",
       "<table border=\"1\" class=\"dataframe\">\n",
       "  <thead>\n",
       "    <tr style=\"text-align: right;\">\n",
       "      <th></th>\n",
       "      <th>num_reactions</th>\n",
       "      <th>num_comments</th>\n",
       "      <th>num_shares</th>\n",
       "      <th>num_likes</th>\n",
       "      <th>num_loves</th>\n",
       "      <th>num_wows</th>\n",
       "      <th>num_hahas</th>\n",
       "      <th>num_sads</th>\n",
       "      <th>num_angrys</th>\n",
       "      <th>cluster</th>\n",
       "      <th>target</th>\n",
       "      <th>c</th>\n",
       "    </tr>\n",
       "  </thead>\n",
       "  <tbody>\n",
       "    <tr>\n",
       "      <th>0</th>\n",
       "      <td>0.646104</td>\n",
       "      <td>0.323350</td>\n",
       "      <td>1.686879</td>\n",
       "      <td>0.482727</td>\n",
       "      <td>1.983266</td>\n",
       "      <td>0.196196</td>\n",
       "      <td>0.076713</td>\n",
       "      <td>0.473570</td>\n",
       "      <td>-0.155748</td>\n",
       "      <td>-1</td>\n",
       "      <td>video</td>\n",
       "      <td>fill</td>\n",
       "    </tr>\n",
       "    <tr>\n",
       "      <th>1</th>\n",
       "      <td>-0.173192</td>\n",
       "      <td>-0.252206</td>\n",
       "      <td>-0.304144</td>\n",
       "      <td>-0.144720</td>\n",
       "      <td>-0.318454</td>\n",
       "      <td>-0.147879</td>\n",
       "      <td>-0.176010</td>\n",
       "      <td>-0.152587</td>\n",
       "      <td>-0.155748</td>\n",
       "      <td>0</td>\n",
       "      <td>photo</td>\n",
       "      <td>fill</td>\n",
       "    </tr>\n",
       "    <tr>\n",
       "      <th>2</th>\n",
       "      <td>-0.006738</td>\n",
       "      <td>0.013089</td>\n",
       "      <td>0.129017</td>\n",
       "      <td>-0.024571</td>\n",
       "      <td>0.206938</td>\n",
       "      <td>-0.033187</td>\n",
       "      <td>0.076713</td>\n",
       "      <td>-0.152587</td>\n",
       "      <td>-0.155748</td>\n",
       "      <td>0</td>\n",
       "      <td>video</td>\n",
       "      <td>fill</td>\n",
       "    </tr>\n",
       "    <tr>\n",
       "      <th>3</th>\n",
       "      <td>-0.257499</td>\n",
       "      <td>-0.252206</td>\n",
       "      <td>-0.304144</td>\n",
       "      <td>-0.231495</td>\n",
       "      <td>-0.318454</td>\n",
       "      <td>-0.147879</td>\n",
       "      <td>-0.176010</td>\n",
       "      <td>-0.152587</td>\n",
       "      <td>-0.155748</td>\n",
       "      <td>0</td>\n",
       "      <td>photo</td>\n",
       "      <td>fill</td>\n",
       "    </tr>\n",
       "    <tr>\n",
       "      <th>4</th>\n",
       "      <td>-0.037003</td>\n",
       "      <td>-0.252206</td>\n",
       "      <td>-0.304144</td>\n",
       "      <td>-0.024571</td>\n",
       "      <td>-0.093286</td>\n",
       "      <td>-0.147879</td>\n",
       "      <td>-0.176010</td>\n",
       "      <td>-0.152587</td>\n",
       "      <td>-0.155748</td>\n",
       "      <td>0</td>\n",
       "      <td>photo</td>\n",
       "      <td>fill</td>\n",
       "    </tr>\n",
       "  </tbody>\n",
       "</table>\n",
       "</div>"
      ],
      "text/plain": [
       "   num_reactions  num_comments  num_shares  num_likes  num_loves  num_wows  \\\n",
       "0       0.646104      0.323350    1.686879   0.482727   1.983266  0.196196   \n",
       "1      -0.173192     -0.252206   -0.304144  -0.144720  -0.318454 -0.147879   \n",
       "2      -0.006738      0.013089    0.129017  -0.024571   0.206938 -0.033187   \n",
       "3      -0.257499     -0.252206   -0.304144  -0.231495  -0.318454 -0.147879   \n",
       "4      -0.037003     -0.252206   -0.304144  -0.024571  -0.093286 -0.147879   \n",
       "\n",
       "   num_hahas  num_sads  num_angrys  cluster target     c  \n",
       "0   0.076713  0.473570   -0.155748       -1  video  fill  \n",
       "1  -0.176010 -0.152587   -0.155748        0  photo  fill  \n",
       "2   0.076713 -0.152587   -0.155748        0  video  fill  \n",
       "3  -0.176010 -0.152587   -0.155748        0  photo  fill  \n",
       "4  -0.176010 -0.152587   -0.155748        0  photo  fill  "
      ]
     },
     "execution_count": 50,
     "metadata": {},
     "output_type": "execute_result"
    }
   ],
   "source": [
    "from sklearn import cluster\n",
    "model = cluster.DBSCAN(eps = 0.5, min_samples=10) # default 0.4\n",
    "results = model.fit(df)\n",
    "df['cluster'] = results.labels_\n",
    "df['target'] = target # target variable we saved earlier\n",
    "df['c'] = 'fill' # stored for later\n",
    "df.head()\n"
   ]
  },
  {
   "cell_type": "code",
   "execution_count": 51,
   "metadata": {},
   "outputs": [
    {
     "name": "stdout",
     "output_type": "stream",
     "text": [
      "                   c\n",
      "cluster target      \n",
      "-1      photo    177\n",
      "        status    27\n",
      "        video    769\n",
      " 0      link      63\n",
      "        photo   4043\n",
      "        status   315\n",
      "        video   1540\n",
      " 1      photo     38\n",
      "        status    11\n",
      "        video     15\n",
      " 2      photo      3\n",
      "        video      7\n",
      " 3      photo     11\n",
      "        status     4\n",
      "        video      2\n",
      " 4      photo      7\n",
      "        status     5\n",
      " 5      photo      9\n",
      "        status     3\n",
      "        video      1\n"
     ]
    }
   ],
   "source": [
    "clustering_result = df[[\"cluster\", \"target\", \"c\"]].groupby([\"cluster\", \"target\"]).agg(\"count\")\n",
    "print(clustering_result)"
   ]
  },
  {
   "cell_type": "code",
   "execution_count": 52,
   "metadata": {},
   "outputs": [
    {
     "data": {
      "text/html": [
       "<div>\n",
       "<style scoped>\n",
       "    .dataframe tbody tr th:only-of-type {\n",
       "        vertical-align: middle;\n",
       "    }\n",
       "\n",
       "    .dataframe tbody tr th {\n",
       "        vertical-align: top;\n",
       "    }\n",
       "\n",
       "    .dataframe thead th {\n",
       "        text-align: right;\n",
       "    }\n",
       "</style>\n",
       "<table border=\"1\" class=\"dataframe\">\n",
       "  <thead>\n",
       "    <tr style=\"text-align: right;\">\n",
       "      <th></th>\n",
       "      <th>num_reactions</th>\n",
       "      <th>num_comments</th>\n",
       "      <th>num_shares</th>\n",
       "      <th>num_likes</th>\n",
       "      <th>num_loves</th>\n",
       "      <th>num_wows</th>\n",
       "      <th>num_hahas</th>\n",
       "      <th>num_sads</th>\n",
       "      <th>num_angrys</th>\n",
       "      <th>cluster</th>\n",
       "    </tr>\n",
       "  </thead>\n",
       "  <tbody>\n",
       "    <tr>\n",
       "      <th>count</th>\n",
       "      <td>973.000000</td>\n",
       "      <td>973.000000</td>\n",
       "      <td>973.000000</td>\n",
       "      <td>973.000000</td>\n",
       "      <td>973.000000</td>\n",
       "      <td>973.000000</td>\n",
       "      <td>973.000000</td>\n",
       "      <td>973.000000</td>\n",
       "      <td>973.000000</td>\n",
       "      <td>973.0</td>\n",
       "    </tr>\n",
       "    <tr>\n",
       "      <th>mean</th>\n",
       "      <td>0.693806</td>\n",
       "      <td>1.336480</td>\n",
       "      <td>1.510126</td>\n",
       "      <td>0.554155</td>\n",
       "      <td>1.516216</td>\n",
       "      <td>0.634806</td>\n",
       "      <td>0.940335</td>\n",
       "      <td>0.833305</td>\n",
       "      <td>0.958603</td>\n",
       "      <td>-1.0</td>\n",
       "    </tr>\n",
       "    <tr>\n",
       "      <th>std</th>\n",
       "      <td>1.434522</td>\n",
       "      <td>2.252945</td>\n",
       "      <td>2.054089</td>\n",
       "      <td>1.410817</td>\n",
       "      <td>2.045897</td>\n",
       "      <td>2.581348</td>\n",
       "      <td>2.478988</td>\n",
       "      <td>2.503651</td>\n",
       "      <td>2.483242</td>\n",
       "      <td>0.0</td>\n",
       "    </tr>\n",
       "    <tr>\n",
       "      <th>min</th>\n",
       "      <td>-0.452055</td>\n",
       "      <td>-0.252206</td>\n",
       "      <td>-0.304144</td>\n",
       "      <td>-0.442869</td>\n",
       "      <td>-0.318454</td>\n",
       "      <td>-0.147879</td>\n",
       "      <td>-0.176010</td>\n",
       "      <td>-0.152587</td>\n",
       "      <td>-0.155748</td>\n",
       "      <td>-1.0</td>\n",
       "    </tr>\n",
       "    <tr>\n",
       "      <th>25%</th>\n",
       "      <td>-0.088884</td>\n",
       "      <td>0.063675</td>\n",
       "      <td>0.037825</td>\n",
       "      <td>-0.191445</td>\n",
       "      <td>0.156901</td>\n",
       "      <td>-0.147879</td>\n",
       "      <td>0.076713</td>\n",
       "      <td>-0.152587</td>\n",
       "      <td>-0.155748</td>\n",
       "      <td>-1.0</td>\n",
       "    </tr>\n",
       "    <tr>\n",
       "      <th>50%</th>\n",
       "      <td>0.122965</td>\n",
       "      <td>0.704432</td>\n",
       "      <td>1.033337</td>\n",
       "      <td>-0.015671</td>\n",
       "      <td>0.957500</td>\n",
       "      <td>0.081504</td>\n",
       "      <td>0.329436</td>\n",
       "      <td>0.473570</td>\n",
       "      <td>-0.155748</td>\n",
       "      <td>-1.0</td>\n",
       "    </tr>\n",
       "    <tr>\n",
       "      <th>75%</th>\n",
       "      <td>0.708794</td>\n",
       "      <td>1.592498</td>\n",
       "      <td>2.218832</td>\n",
       "      <td>0.562826</td>\n",
       "      <td>2.133379</td>\n",
       "      <td>0.310888</td>\n",
       "      <td>1.087605</td>\n",
       "      <td>1.099728</td>\n",
       "      <td>1.220221</td>\n",
       "      <td>-1.0</td>\n",
       "    </tr>\n",
       "    <tr>\n",
       "      <th>max</th>\n",
       "      <td>9.684296</td>\n",
       "      <td>23.343365</td>\n",
       "      <td>25.715945</td>\n",
       "      <td>10.001228</td>\n",
       "      <td>16.118835</td>\n",
       "      <td>31.736395</td>\n",
       "      <td>39.501488</td>\n",
       "      <td>31.781438</td>\n",
       "      <td>42.499304</td>\n",
       "      <td>-1.0</td>\n",
       "    </tr>\n",
       "  </tbody>\n",
       "</table>\n",
       "</div>"
      ],
      "text/plain": [
       "       num_reactions  num_comments  num_shares   num_likes   num_loves  \\\n",
       "count     973.000000    973.000000  973.000000  973.000000  973.000000   \n",
       "mean        0.693806      1.336480    1.510126    0.554155    1.516216   \n",
       "std         1.434522      2.252945    2.054089    1.410817    2.045897   \n",
       "min        -0.452055     -0.252206   -0.304144   -0.442869   -0.318454   \n",
       "25%        -0.088884      0.063675    0.037825   -0.191445    0.156901   \n",
       "50%         0.122965      0.704432    1.033337   -0.015671    0.957500   \n",
       "75%         0.708794      1.592498    2.218832    0.562826    2.133379   \n",
       "max         9.684296     23.343365   25.715945   10.001228   16.118835   \n",
       "\n",
       "         num_wows   num_hahas    num_sads  num_angrys  cluster  \n",
       "count  973.000000  973.000000  973.000000  973.000000    973.0  \n",
       "mean     0.634806    0.940335    0.833305    0.958603     -1.0  \n",
       "std      2.581348    2.478988    2.503651    2.483242      0.0  \n",
       "min     -0.147879   -0.176010   -0.152587   -0.155748     -1.0  \n",
       "25%     -0.147879    0.076713   -0.152587   -0.155748     -1.0  \n",
       "50%      0.081504    0.329436    0.473570   -0.155748     -1.0  \n",
       "75%      0.310888    1.087605    1.099728    1.220221     -1.0  \n",
       "max     31.736395   39.501488   31.781438   42.499304     -1.0  "
      ]
     },
     "execution_count": 52,
     "metadata": {},
     "output_type": "execute_result"
    }
   ],
   "source": [
    "cluster_negative_one = df[df['cluster'] == -1] \n",
    "cluster_negative_one.describe() "
   ]
  },
  {
   "cell_type": "code",
   "execution_count": 53,
   "metadata": {},
   "outputs": [
    {
     "data": {
      "text/html": [
       "<div>\n",
       "<style scoped>\n",
       "    .dataframe tbody tr th:only-of-type {\n",
       "        vertical-align: middle;\n",
       "    }\n",
       "\n",
       "    .dataframe tbody tr th {\n",
       "        vertical-align: top;\n",
       "    }\n",
       "\n",
       "    .dataframe thead th {\n",
       "        text-align: right;\n",
       "    }\n",
       "</style>\n",
       "<table border=\"1\" class=\"dataframe\">\n",
       "  <thead>\n",
       "    <tr style=\"text-align: right;\">\n",
       "      <th></th>\n",
       "      <th>num_reactions</th>\n",
       "      <th>num_comments</th>\n",
       "      <th>num_shares</th>\n",
       "      <th>num_likes</th>\n",
       "      <th>num_loves</th>\n",
       "      <th>num_wows</th>\n",
       "      <th>num_hahas</th>\n",
       "      <th>num_sads</th>\n",
       "      <th>num_angrys</th>\n",
       "      <th>cluster</th>\n",
       "    </tr>\n",
       "  </thead>\n",
       "  <tbody>\n",
       "    <tr>\n",
       "      <th>count</th>\n",
       "      <td>64.000000</td>\n",
       "      <td>64.000000</td>\n",
       "      <td>64.000000</td>\n",
       "      <td>64.000000</td>\n",
       "      <td>64.000000</td>\n",
       "      <td>64.000000</td>\n",
       "      <td>64.000000</td>\n",
       "      <td>6.400000e+01</td>\n",
       "      <td>64.000000</td>\n",
       "      <td>64.0</td>\n",
       "    </tr>\n",
       "    <tr>\n",
       "      <th>mean</th>\n",
       "      <td>-0.277056</td>\n",
       "      <td>-0.190888</td>\n",
       "      <td>-0.247743</td>\n",
       "      <td>-0.267407</td>\n",
       "      <td>-0.201961</td>\n",
       "      <td>-0.013475</td>\n",
       "      <td>-0.108880</td>\n",
       "      <td>4.735704e-01</td>\n",
       "      <td>-0.155748</td>\n",
       "      <td>1.0</td>\n",
       "    </tr>\n",
       "    <tr>\n",
       "      <th>std</th>\n",
       "      <td>0.178256</td>\n",
       "      <td>0.111602</td>\n",
       "      <td>0.123280</td>\n",
       "      <td>0.174079</td>\n",
       "      <td>0.166148</td>\n",
       "      <td>0.205933</td>\n",
       "      <td>0.150978</td>\n",
       "      <td>3.916499e-16</td>\n",
       "      <td>0.000000</td>\n",
       "      <td>0.0</td>\n",
       "    </tr>\n",
       "    <tr>\n",
       "      <th>min</th>\n",
       "      <td>-0.490966</td>\n",
       "      <td>-0.252206</td>\n",
       "      <td>-0.304144</td>\n",
       "      <td>-0.474019</td>\n",
       "      <td>-0.318454</td>\n",
       "      <td>-0.147879</td>\n",
       "      <td>-0.176010</td>\n",
       "      <td>4.735704e-01</td>\n",
       "      <td>-0.155748</td>\n",
       "      <td>1.0</td>\n",
       "    </tr>\n",
       "    <tr>\n",
       "      <th>25%</th>\n",
       "      <td>-0.420710</td>\n",
       "      <td>-0.248834</td>\n",
       "      <td>-0.304144</td>\n",
       "      <td>-0.406156</td>\n",
       "      <td>-0.318454</td>\n",
       "      <td>-0.147879</td>\n",
       "      <td>-0.176010</td>\n",
       "      <td>4.735704e-01</td>\n",
       "      <td>-0.155748</td>\n",
       "      <td>1.0</td>\n",
       "    </tr>\n",
       "    <tr>\n",
       "      <th>50%</th>\n",
       "      <td>-0.298572</td>\n",
       "      <td>-0.240403</td>\n",
       "      <td>-0.296545</td>\n",
       "      <td>-0.284895</td>\n",
       "      <td>-0.293436</td>\n",
       "      <td>-0.147879</td>\n",
       "      <td>-0.176010</td>\n",
       "      <td>4.735704e-01</td>\n",
       "      <td>-0.155748</td>\n",
       "      <td>1.0</td>\n",
       "    </tr>\n",
       "    <tr>\n",
       "      <th>75%</th>\n",
       "      <td>-0.205618</td>\n",
       "      <td>-0.200777</td>\n",
       "      <td>-0.281346</td>\n",
       "      <td>-0.211470</td>\n",
       "      <td>-0.162087</td>\n",
       "      <td>0.081504</td>\n",
       "      <td>-0.176010</td>\n",
       "      <td>4.735704e-01</td>\n",
       "      <td>-0.155748</td>\n",
       "      <td>1.0</td>\n",
       "    </tr>\n",
       "    <tr>\n",
       "      <th>max</th>\n",
       "      <td>0.319683</td>\n",
       "      <td>0.243537</td>\n",
       "      <td>0.220209</td>\n",
       "      <td>0.338102</td>\n",
       "      <td>0.307013</td>\n",
       "      <td>0.540271</td>\n",
       "      <td>0.329436</td>\n",
       "      <td>4.735704e-01</td>\n",
       "      <td>-0.155748</td>\n",
       "      <td>1.0</td>\n",
       "    </tr>\n",
       "  </tbody>\n",
       "</table>\n",
       "</div>"
      ],
      "text/plain": [
       "       num_reactions  num_comments  num_shares  num_likes  num_loves  \\\n",
       "count      64.000000     64.000000   64.000000  64.000000  64.000000   \n",
       "mean       -0.277056     -0.190888   -0.247743  -0.267407  -0.201961   \n",
       "std         0.178256      0.111602    0.123280   0.174079   0.166148   \n",
       "min        -0.490966     -0.252206   -0.304144  -0.474019  -0.318454   \n",
       "25%        -0.420710     -0.248834   -0.304144  -0.406156  -0.318454   \n",
       "50%        -0.298572     -0.240403   -0.296545  -0.284895  -0.293436   \n",
       "75%        -0.205618     -0.200777   -0.281346  -0.211470  -0.162087   \n",
       "max         0.319683      0.243537    0.220209   0.338102   0.307013   \n",
       "\n",
       "        num_wows  num_hahas      num_sads  num_angrys  cluster  \n",
       "count  64.000000  64.000000  6.400000e+01   64.000000     64.0  \n",
       "mean   -0.013475  -0.108880  4.735704e-01   -0.155748      1.0  \n",
       "std     0.205933   0.150978  3.916499e-16    0.000000      0.0  \n",
       "min    -0.147879  -0.176010  4.735704e-01   -0.155748      1.0  \n",
       "25%    -0.147879  -0.176010  4.735704e-01   -0.155748      1.0  \n",
       "50%    -0.147879  -0.176010  4.735704e-01   -0.155748      1.0  \n",
       "75%     0.081504  -0.176010  4.735704e-01   -0.155748      1.0  \n",
       "max     0.540271   0.329436  4.735704e-01   -0.155748      1.0  "
      ]
     },
     "execution_count": 53,
     "metadata": {},
     "output_type": "execute_result"
    }
   ],
   "source": [
    "cluster_one = df[df['cluster'] == 1] \n",
    "cluster_one.describe() "
   ]
  },
  {
   "cell_type": "code",
   "execution_count": 54,
   "metadata": {},
   "outputs": [],
   "source": [
    "data = scaled_data"
   ]
  },
  {
   "cell_type": "code",
   "execution_count": 55,
   "metadata": {},
   "outputs": [
    {
     "data": {
      "image/png": "[encoded data removed]",
      "text/plain": [
       "<Figure size 432x288 with 1 Axes>"
      ]
     },
     "metadata": {
      "needs_background": "light"
     },
     "output_type": "display_data"
    },
    {
     "data": {
      "text/plain": [
       "<matplotlib.collections.PathCollection at 0x20063390>"
      ]
     },
     "execution_count": 55,
     "metadata": {},
     "output_type": "execute_result"
    },
    {
     "data": {
      "image/png": "[encoded data removed]",
      "text/plain": [
       "<Figure size 432x288 with 1 Axes>"
      ]
     },
     "metadata": {
      "needs_background": "light"
     },
     "output_type": "display_data"
    }
   ],
   "source": [
    "# only works okay.. we want a k distance graph to define our eps parameter\n",
    "from sklearn.neighbors import NearestNeighbors\n",
    "\n",
    "nbrs = NearestNeighbors().fit(data)\n",
    "distances, indices = nbrs.kneighbors(data, 20)\n",
    "kDis = distances[:, 10]\n",
    "kDis.sort()\n",
    "kDis = kDis[range(len(kDis)-1, 0, -1)]\n",
    "plt.plot(range(0,len(kDis)), kDis)\n",
    "plt.xlabel('number of observations')\n",
    "plt.ylabel('distance')\n",
    "plt.title('k Distance Graph')\n",
    "plt.show()\n",
    "\n",
    "from sklearn.cluster import DBSCAN\n",
    "dbs_1 = DBSCAN(eps=1, min_samples = 30) # eps between (2 and 2.5) 2.3 and 4 looks the best so far\n",
    "labels_1 = dbs_1.fit(data).labels_\n",
    "\n",
    "plt.scatter(data[:,0], data[:,2], c = labels_1, alpha = 0.8, s = 5, lw = 0)\n",
    "\n",
    "# we want it to find more than 2 clusters (ideally 4 clusters)"
   ]
  },
  {
   "cell_type": "markdown",
   "metadata": {},
   "source": [
    "Change parameters, modelling with paramters eps = 1, min_samples=30"
   ]
  },
  {
   "cell_type": "code",
   "execution_count": 56,
   "metadata": {},
   "outputs": [
    {
     "name": "stdout",
     "output_type": "stream",
     "text": [
      "                   c\n",
      "cluster target      \n",
      "-1      photo    104\n",
      "        status    22\n",
      "        video    435\n",
      " 0      link      63\n",
      "        photo   4178\n",
      "        status   342\n",
      "        video   1780\n",
      " 1      photo      6\n",
      "        status     1\n",
      "        video    119\n"
     ]
    }
   ],
   "source": [
    "# change parameters\n",
    "\n",
    "df = pd.DataFrame(data=data)\n",
    "\n",
    "from sklearn import cluster\n",
    "model = cluster.DBSCAN(eps = 1, min_samples=30) # default 0.4\n",
    "results = model.fit(df)\n",
    "df['cluster'] = results.labels_\n",
    "df['target'] = target # target variable we saved earlier\n",
    "df['c'] = 'fill' # stored for later\n",
    "df.head()\n",
    "\n",
    "clustering_result = df[[\"cluster\", \"target\", \"c\"]].groupby([\"cluster\", \"target\"]).agg(\"count\")\n",
    "print(clustering_result)\n",
    "\n"
   ]
  },
  {
   "cell_type": "code",
   "execution_count": 57,
   "metadata": {},
   "outputs": [],
   "source": [
    "df.columns = ['num_reactions', 'num_comments', 'num_shares', 'num_likes', 'num_loves', 'num_wows', 'num_hahas', 'num_sads', 'num_angrys', 'cluster', 'target', 'c']"
   ]
  },
  {
   "cell_type": "code",
   "execution_count": 58,
   "metadata": {},
   "outputs": [
    {
     "data": {
      "text/html": [
       "<div>\n",
       "<style scoped>\n",
       "    .dataframe tbody tr th:only-of-type {\n",
       "        vertical-align: middle;\n",
       "    }\n",
       "\n",
       "    .dataframe tbody tr th {\n",
       "        vertical-align: top;\n",
       "    }\n",
       "\n",
       "    .dataframe thead th {\n",
       "        text-align: right;\n",
       "    }\n",
       "</style>\n",
       "<table border=\"1\" class=\"dataframe\">\n",
       "  <thead>\n",
       "    <tr style=\"text-align: right;\">\n",
       "      <th></th>\n",
       "      <th>num_reactions</th>\n",
       "      <th>num_comments</th>\n",
       "      <th>num_shares</th>\n",
       "      <th>num_likes</th>\n",
       "      <th>num_loves</th>\n",
       "      <th>num_wows</th>\n",
       "      <th>num_hahas</th>\n",
       "      <th>num_sads</th>\n",
       "      <th>num_angrys</th>\n",
       "      <th>cluster</th>\n",
       "    </tr>\n",
       "  </thead>\n",
       "  <tbody>\n",
       "    <tr>\n",
       "      <th>count</th>\n",
       "      <td>561.000000</td>\n",
       "      <td>561.000000</td>\n",
       "      <td>561.000000</td>\n",
       "      <td>561.000000</td>\n",
       "      <td>561.000000</td>\n",
       "      <td>561.000000</td>\n",
       "      <td>561.000000</td>\n",
       "      <td>561.000000</td>\n",
       "      <td>561.000000</td>\n",
       "      <td>561.0</td>\n",
       "    </tr>\n",
       "    <tr>\n",
       "      <th>mean</th>\n",
       "      <td>1.002716</td>\n",
       "      <td>2.015695</td>\n",
       "      <td>2.057566</td>\n",
       "      <td>0.812156</td>\n",
       "      <td>2.021530</td>\n",
       "      <td>1.050761</td>\n",
       "      <td>1.428172</td>\n",
       "      <td>1.331886</td>\n",
       "      <td>1.492472</td>\n",
       "      <td>-1.0</td>\n",
       "    </tr>\n",
       "    <tr>\n",
       "      <th>std</th>\n",
       "      <td>1.645367</td>\n",
       "      <td>2.743458</td>\n",
       "      <td>2.481494</td>\n",
       "      <td>1.608597</td>\n",
       "      <td>2.490271</td>\n",
       "      <td>3.327240</td>\n",
       "      <td>3.156169</td>\n",
       "      <td>3.179701</td>\n",
       "      <td>3.122050</td>\n",
       "      <td>0.0</td>\n",
       "    </tr>\n",
       "    <tr>\n",
       "      <th>min</th>\n",
       "      <td>-0.441246</td>\n",
       "      <td>-0.252206</td>\n",
       "      <td>-0.304144</td>\n",
       "      <td>-0.429519</td>\n",
       "      <td>-0.318454</td>\n",
       "      <td>-0.147879</td>\n",
       "      <td>-0.176010</td>\n",
       "      <td>-0.152587</td>\n",
       "      <td>-0.155748</td>\n",
       "      <td>-1.0</td>\n",
       "    </tr>\n",
       "    <tr>\n",
       "      <th>25%</th>\n",
       "      <td>0.019202</td>\n",
       "      <td>0.125503</td>\n",
       "      <td>-0.022969</td>\n",
       "      <td>-0.104670</td>\n",
       "      <td>0.181920</td>\n",
       "      <td>-0.033187</td>\n",
       "      <td>0.076713</td>\n",
       "      <td>-0.152587</td>\n",
       "      <td>-0.155748</td>\n",
       "      <td>-1.0</td>\n",
       "    </tr>\n",
       "    <tr>\n",
       "      <th>50%</th>\n",
       "      <td>0.304551</td>\n",
       "      <td>1.274368</td>\n",
       "      <td>1.641283</td>\n",
       "      <td>0.140078</td>\n",
       "      <td>1.232705</td>\n",
       "      <td>0.196196</td>\n",
       "      <td>0.582159</td>\n",
       "      <td>0.473570</td>\n",
       "      <td>1.220221</td>\n",
       "      <td>-1.0</td>\n",
       "    </tr>\n",
       "    <tr>\n",
       "      <th>75%</th>\n",
       "      <td>1.649147</td>\n",
       "      <td>2.713259</td>\n",
       "      <td>3.297936</td>\n",
       "      <td>1.357147</td>\n",
       "      <td>3.009033</td>\n",
       "      <td>0.540271</td>\n",
       "      <td>1.593051</td>\n",
       "      <td>1.099728</td>\n",
       "      <td>2.596191</td>\n",
       "      <td>-1.0</td>\n",
       "    </tr>\n",
       "    <tr>\n",
       "      <th>max</th>\n",
       "      <td>9.684296</td>\n",
       "      <td>23.343365</td>\n",
       "      <td>25.715945</td>\n",
       "      <td>10.001228</td>\n",
       "      <td>16.118835</td>\n",
       "      <td>31.736395</td>\n",
       "      <td>39.501488</td>\n",
       "      <td>31.781438</td>\n",
       "      <td>42.499304</td>\n",
       "      <td>-1.0</td>\n",
       "    </tr>\n",
       "  </tbody>\n",
       "</table>\n",
       "</div>"
      ],
      "text/plain": [
       "       num_reactions  num_comments  num_shares   num_likes   num_loves  \\\n",
       "count     561.000000    561.000000  561.000000  561.000000  561.000000   \n",
       "mean        1.002716      2.015695    2.057566    0.812156    2.021530   \n",
       "std         1.645367      2.743458    2.481494    1.608597    2.490271   \n",
       "min        -0.441246     -0.252206   -0.304144   -0.429519   -0.318454   \n",
       "25%         0.019202      0.125503   -0.022969   -0.104670    0.181920   \n",
       "50%         0.304551      1.274368    1.641283    0.140078    1.232705   \n",
       "75%         1.649147      2.713259    3.297936    1.357147    3.009033   \n",
       "max         9.684296     23.343365   25.715945   10.001228   16.118835   \n",
       "\n",
       "         num_wows   num_hahas    num_sads  num_angrys  cluster  \n",
       "count  561.000000  561.000000  561.000000  561.000000    561.0  \n",
       "mean     1.050761    1.428172    1.331886    1.492472     -1.0  \n",
       "std      3.327240    3.156169    3.179701    3.122050      0.0  \n",
       "min     -0.147879   -0.176010   -0.152587   -0.155748     -1.0  \n",
       "25%     -0.033187    0.076713   -0.152587   -0.155748     -1.0  \n",
       "50%      0.196196    0.582159    0.473570    1.220221     -1.0  \n",
       "75%      0.540271    1.593051    1.099728    2.596191     -1.0  \n",
       "max     31.736395   39.501488   31.781438   42.499304     -1.0  "
      ]
     },
     "execution_count": 58,
     "metadata": {},
     "output_type": "execute_result"
    }
   ],
   "source": [
    "cluster_negative_one = df[df['cluster'] == -1] \n",
    "cluster_negative_one.describe() \n",
    "# (more reactions than k means but less in shares and comments meaning not as invested?)"
   ]
  },
  {
   "cell_type": "code",
   "execution_count": 59,
   "metadata": {},
   "outputs": [
    {
     "data": {
      "text/html": [
       "<div>\n",
       "<style scoped>\n",
       "    .dataframe tbody tr th:only-of-type {\n",
       "        vertical-align: middle;\n",
       "    }\n",
       "\n",
       "    .dataframe tbody tr th {\n",
       "        vertical-align: top;\n",
       "    }\n",
       "\n",
       "    .dataframe thead th {\n",
       "        text-align: right;\n",
       "    }\n",
       "</style>\n",
       "<table border=\"1\" class=\"dataframe\">\n",
       "  <thead>\n",
       "    <tr style=\"text-align: right;\">\n",
       "      <th></th>\n",
       "      <th>num_reactions</th>\n",
       "      <th>num_comments</th>\n",
       "      <th>num_shares</th>\n",
       "      <th>num_likes</th>\n",
       "      <th>num_loves</th>\n",
       "      <th>num_wows</th>\n",
       "      <th>num_hahas</th>\n",
       "      <th>num_sads</th>\n",
       "      <th>num_angrys</th>\n",
       "      <th>cluster</th>\n",
       "    </tr>\n",
       "  </thead>\n",
       "  <tbody>\n",
       "    <tr>\n",
       "      <th>count</th>\n",
       "      <td>126.000000</td>\n",
       "      <td>126.000000</td>\n",
       "      <td>126.000000</td>\n",
       "      <td>126.000000</td>\n",
       "      <td>126.000000</td>\n",
       "      <td>126.000000</td>\n",
       "      <td>126.000000</td>\n",
       "      <td>126.000000</td>\n",
       "      <td>1.260000e+02</td>\n",
       "      <td>126.0</td>\n",
       "    </tr>\n",
       "    <tr>\n",
       "      <th>mean</th>\n",
       "      <td>-0.077046</td>\n",
       "      <td>0.315829</td>\n",
       "      <td>0.704093</td>\n",
       "      <td>-0.155563</td>\n",
       "      <td>0.822081</td>\n",
       "      <td>-0.032277</td>\n",
       "      <td>0.195052</td>\n",
       "      <td>0.026315</td>\n",
       "      <td>1.220221e+00</td>\n",
       "      <td>1.0</td>\n",
       "    </tr>\n",
       "    <tr>\n",
       "      <th>std</th>\n",
       "      <td>0.166285</td>\n",
       "      <td>0.399604</td>\n",
       "      <td>0.613628</td>\n",
       "      <td>0.151468</td>\n",
       "      <td>0.630394</td>\n",
       "      <td>0.133355</td>\n",
       "      <td>0.348261</td>\n",
       "      <td>0.305289</td>\n",
       "      <td>2.229310e-15</td>\n",
       "      <td>0.0</td>\n",
       "    </tr>\n",
       "    <tr>\n",
       "      <th>min</th>\n",
       "      <td>-0.452055</td>\n",
       "      <td>-0.251082</td>\n",
       "      <td>-0.304144</td>\n",
       "      <td>-0.442869</td>\n",
       "      <td>-0.318454</td>\n",
       "      <td>-0.147879</td>\n",
       "      <td>-0.176010</td>\n",
       "      <td>-0.152587</td>\n",
       "      <td>1.220221e+00</td>\n",
       "      <td>1.0</td>\n",
       "    </tr>\n",
       "    <tr>\n",
       "      <th>25%</th>\n",
       "      <td>-0.184000</td>\n",
       "      <td>0.070420</td>\n",
       "      <td>0.222109</td>\n",
       "      <td>-0.258751</td>\n",
       "      <td>0.407088</td>\n",
       "      <td>-0.147879</td>\n",
       "      <td>-0.176010</td>\n",
       "      <td>-0.152587</td>\n",
       "      <td>1.220221e+00</td>\n",
       "      <td>1.0</td>\n",
       "    </tr>\n",
       "    <tr>\n",
       "      <th>50%</th>\n",
       "      <td>-0.070509</td>\n",
       "      <td>0.253654</td>\n",
       "      <td>0.793958</td>\n",
       "      <td>-0.191445</td>\n",
       "      <td>0.794878</td>\n",
       "      <td>-0.033187</td>\n",
       "      <td>0.076713</td>\n",
       "      <td>-0.152587</td>\n",
       "      <td>1.220221e+00</td>\n",
       "      <td>1.0</td>\n",
       "    </tr>\n",
       "    <tr>\n",
       "      <th>75%</th>\n",
       "      <td>0.014879</td>\n",
       "      <td>0.500964</td>\n",
       "      <td>1.189123</td>\n",
       "      <td>-0.077971</td>\n",
       "      <td>1.301507</td>\n",
       "      <td>0.081504</td>\n",
       "      <td>0.329436</td>\n",
       "      <td>0.473570</td>\n",
       "      <td>1.220221e+00</td>\n",
       "      <td>1.0</td>\n",
       "    </tr>\n",
       "    <tr>\n",
       "      <th>max</th>\n",
       "      <td>0.416961</td>\n",
       "      <td>1.422753</td>\n",
       "      <td>1.998451</td>\n",
       "      <td>0.449352</td>\n",
       "      <td>2.358547</td>\n",
       "      <td>0.425579</td>\n",
       "      <td>1.087605</td>\n",
       "      <td>1.099728</td>\n",
       "      <td>1.220221e+00</td>\n",
       "      <td>1.0</td>\n",
       "    </tr>\n",
       "  </tbody>\n",
       "</table>\n",
       "</div>"
      ],
      "text/plain": [
       "       num_reactions  num_comments  num_shares   num_likes   num_loves  \\\n",
       "count     126.000000    126.000000  126.000000  126.000000  126.000000   \n",
       "mean       -0.077046      0.315829    0.704093   -0.155563    0.822081   \n",
       "std         0.166285      0.399604    0.613628    0.151468    0.630394   \n",
       "min        -0.452055     -0.251082   -0.304144   -0.442869   -0.318454   \n",
       "25%        -0.184000      0.070420    0.222109   -0.258751    0.407088   \n",
       "50%        -0.070509      0.253654    0.793958   -0.191445    0.794878   \n",
       "75%         0.014879      0.500964    1.189123   -0.077971    1.301507   \n",
       "max         0.416961      1.422753    1.998451    0.449352    2.358547   \n",
       "\n",
       "         num_wows   num_hahas    num_sads    num_angrys  cluster  \n",
       "count  126.000000  126.000000  126.000000  1.260000e+02    126.0  \n",
       "mean    -0.032277    0.195052    0.026315  1.220221e+00      1.0  \n",
       "std      0.133355    0.348261    0.305289  2.229310e-15      0.0  \n",
       "min     -0.147879   -0.176010   -0.152587  1.220221e+00      1.0  \n",
       "25%     -0.147879   -0.176010   -0.152587  1.220221e+00      1.0  \n",
       "50%     -0.033187    0.076713   -0.152587  1.220221e+00      1.0  \n",
       "75%      0.081504    0.329436    0.473570  1.220221e+00      1.0  \n",
       "max      0.425579    1.087605    1.099728  1.220221e+00      1.0  "
      ]
     },
     "execution_count": 59,
     "metadata": {},
     "output_type": "execute_result"
    }
   ],
   "source": [
    "cluster_one = df[df['cluster'] == 1] \n",
    "cluster_one.describe() \n",
    "\n",
    "# this video cluster is different to the other cluster because all the videos have low number of shares and reactions"
   ]
  },
  {
   "cell_type": "code",
   "execution_count": 60,
   "metadata": {},
   "outputs": [
    {
     "data": {
      "text/html": [
       "<div>\n",
       "<style scoped>\n",
       "    .dataframe tbody tr th:only-of-type {\n",
       "        vertical-align: middle;\n",
       "    }\n",
       "\n",
       "    .dataframe tbody tr th {\n",
       "        vertical-align: top;\n",
       "    }\n",
       "\n",
       "    .dataframe thead th {\n",
       "        text-align: right;\n",
       "    }\n",
       "</style>\n",
       "<table border=\"1\" class=\"dataframe\">\n",
       "  <thead>\n",
       "    <tr style=\"text-align: right;\">\n",
       "      <th></th>\n",
       "      <th>num_reactions</th>\n",
       "      <th>num_comments</th>\n",
       "      <th>num_shares</th>\n",
       "      <th>num_likes</th>\n",
       "      <th>num_loves</th>\n",
       "      <th>num_wows</th>\n",
       "      <th>num_hahas</th>\n",
       "      <th>num_sads</th>\n",
       "      <th>num_angrys</th>\n",
       "      <th>cluster</th>\n",
       "    </tr>\n",
       "  </thead>\n",
       "  <tbody>\n",
       "    <tr>\n",
       "      <th>count</th>\n",
       "      <td>6363.000000</td>\n",
       "      <td>6363.000000</td>\n",
       "      <td>6363.000000</td>\n",
       "      <td>6363.000000</td>\n",
       "      <td>6363.000000</td>\n",
       "      <td>6363.000000</td>\n",
       "      <td>6363.000000</td>\n",
       "      <td>6363.000000</td>\n",
       "      <td>6.363000e+03</td>\n",
       "      <td>6363.0</td>\n",
       "    </tr>\n",
       "    <tr>\n",
       "      <th>mean</th>\n",
       "      <td>-0.086880</td>\n",
       "      <td>-0.183970</td>\n",
       "      <td>-0.195350</td>\n",
       "      <td>-0.068524</td>\n",
       "      <td>-0.194509</td>\n",
       "      <td>-0.092002</td>\n",
       "      <td>-0.129779</td>\n",
       "      <td>-0.117948</td>\n",
       "      <td>-1.557480e-01</td>\n",
       "      <td>0.0</td>\n",
       "    </tr>\n",
       "    <tr>\n",
       "      <th>std</th>\n",
       "      <td>0.879190</td>\n",
       "      <td>0.219987</td>\n",
       "      <td>0.370696</td>\n",
       "      <td>0.903652</td>\n",
       "      <td>0.378005</td>\n",
       "      <td>0.165802</td>\n",
       "      <td>0.177407</td>\n",
       "      <td>0.214491</td>\n",
       "      <td>1.257426e-14</td>\n",
       "      <td>0.0</td>\n",
       "    </tr>\n",
       "    <tr>\n",
       "      <th>min</th>\n",
       "      <td>-0.497451</td>\n",
       "      <td>-0.252206</td>\n",
       "      <td>-0.304144</td>\n",
       "      <td>-0.478469</td>\n",
       "      <td>-0.318454</td>\n",
       "      <td>-0.147879</td>\n",
       "      <td>-0.176010</td>\n",
       "      <td>-0.152587</td>\n",
       "      <td>-1.557480e-01</td>\n",
       "      <td>0.0</td>\n",
       "    </tr>\n",
       "    <tr>\n",
       "      <th>25%</th>\n",
       "      <td>-0.465025</td>\n",
       "      <td>-0.252206</td>\n",
       "      <td>-0.304144</td>\n",
       "      <td>-0.445094</td>\n",
       "      <td>-0.318454</td>\n",
       "      <td>-0.147879</td>\n",
       "      <td>-0.176010</td>\n",
       "      <td>-0.152587</td>\n",
       "      <td>-1.557480e-01</td>\n",
       "      <td>0.0</td>\n",
       "    </tr>\n",
       "    <tr>\n",
       "      <th>50%</th>\n",
       "      <td>-0.398012</td>\n",
       "      <td>-0.248834</td>\n",
       "      <td>-0.304144</td>\n",
       "      <td>-0.378344</td>\n",
       "      <td>-0.318454</td>\n",
       "      <td>-0.147879</td>\n",
       "      <td>-0.176010</td>\n",
       "      <td>-0.152587</td>\n",
       "      <td>-1.557480e-01</td>\n",
       "      <td>0.0</td>\n",
       "    </tr>\n",
       "    <tr>\n",
       "      <th>75%</th>\n",
       "      <td>-0.124553</td>\n",
       "      <td>-0.237592</td>\n",
       "      <td>-0.288946</td>\n",
       "      <td>-0.144720</td>\n",
       "      <td>-0.268417</td>\n",
       "      <td>-0.147879</td>\n",
       "      <td>-0.176010</td>\n",
       "      <td>-0.152587</td>\n",
       "      <td>-1.557480e-01</td>\n",
       "      <td>0.0</td>\n",
       "    </tr>\n",
       "    <tr>\n",
       "      <th>max</th>\n",
       "      <td>5.873167</td>\n",
       "      <td>1.947724</td>\n",
       "      <td>2.933168</td>\n",
       "      <td>6.078573</td>\n",
       "      <td>3.059071</td>\n",
       "      <td>2.260645</td>\n",
       "      <td>1.845773</td>\n",
       "      <td>2.978200</td>\n",
       "      <td>-1.557480e-01</td>\n",
       "      <td>0.0</td>\n",
       "    </tr>\n",
       "  </tbody>\n",
       "</table>\n",
       "</div>"
      ],
      "text/plain": [
       "       num_reactions  num_comments   num_shares    num_likes    num_loves  \\\n",
       "count    6363.000000   6363.000000  6363.000000  6363.000000  6363.000000   \n",
       "mean       -0.086880     -0.183970    -0.195350    -0.068524    -0.194509   \n",
       "std         0.879190      0.219987     0.370696     0.903652     0.378005   \n",
       "min        -0.497451     -0.252206    -0.304144    -0.478469    -0.318454   \n",
       "25%        -0.465025     -0.252206    -0.304144    -0.445094    -0.318454   \n",
       "50%        -0.398012     -0.248834    -0.304144    -0.378344    -0.318454   \n",
       "75%        -0.124553     -0.237592    -0.288946    -0.144720    -0.268417   \n",
       "max         5.873167      1.947724     2.933168     6.078573     3.059071   \n",
       "\n",
       "          num_wows    num_hahas     num_sads    num_angrys  cluster  \n",
       "count  6363.000000  6363.000000  6363.000000  6.363000e+03   6363.0  \n",
       "mean     -0.092002    -0.129779    -0.117948 -1.557480e-01      0.0  \n",
       "std       0.165802     0.177407     0.214491  1.257426e-14      0.0  \n",
       "min      -0.147879    -0.176010    -0.152587 -1.557480e-01      0.0  \n",
       "25%      -0.147879    -0.176010    -0.152587 -1.557480e-01      0.0  \n",
       "50%      -0.147879    -0.176010    -0.152587 -1.557480e-01      0.0  \n",
       "75%      -0.147879    -0.176010    -0.152587 -1.557480e-01      0.0  \n",
       "max       2.260645     1.845773     2.978200 -1.557480e-01      0.0  "
      ]
     },
     "execution_count": 60,
     "metadata": {},
     "output_type": "execute_result"
    }
   ],
   "source": [
    "# check cluster 0\n",
    "cluster_0 = df[df['cluster'] == 0] \n",
    "cluster_0.describe() # this cluster is kind of like the middle ground where the majority of values are"
   ]
  },
  {
   "cell_type": "code",
   "execution_count": 61,
   "metadata": {},
   "outputs": [],
   "source": [
    "df = df.drop(['target', 'c','cluster'], axis = 1)"
   ]
  },
  {
   "cell_type": "code",
   "execution_count": 62,
   "metadata": {},
   "outputs": [],
   "source": [
    "# vislaising DBSCAN\n",
    "\n",
    "from sklearn.cluster import DBSCAN\n",
    "import matplotlib.pyplot as plt\n",
    "import numpy as np\n",
    "\n",
    "# set parameters\n",
    "dbsc = DBSCAN(eps = 1, min_samples = 30).fit(df) "
   ]
  },
  {
   "cell_type": "code",
   "execution_count": 63,
   "metadata": {},
   "outputs": [],
   "source": [
    "labels = dbsc.labels_\n",
    "core_samples = np.zeros_like(labels,dtype = bool)\n",
    "core_samples[dbsc.core_sample_indices_] = True"
   ]
  },
  {
   "cell_type": "code",
   "execution_count": 64,
   "metadata": {},
   "outputs": [],
   "source": [
    "# add in the dummy target components to visualise the the effect of DBSCAN\n",
    "# join back into Live\n",
    "df = pd.concat([df, dummies_status_type],axis = 1)"
   ]
  },
  {
   "cell_type": "code",
   "execution_count": 65,
   "metadata": {},
   "outputs": [],
   "source": [
    "filter=list(core_samples)\n",
    "df[\"Filter\"]=filter"
   ]
  },
  {
   "cell_type": "code",
   "execution_count": 66,
   "metadata": {},
   "outputs": [],
   "source": [
    "# num_reactions\tnum_comments\tnum_shares\tnum_likes\tnum_loves\tnum_wows\tnum_hahas\tnum_sads\tnum_angrys\n",
    "df.columns = ['num_reactions', 'num_comments', 'num_shares', 'num_likes', 'num_loves', 'num_wows', 'num_hahas', 'num_sads', 'num_angrys', 'link', 'photo', 'status', 'video', 'Filter']"
   ]
  },
  {
   "cell_type": "code",
   "execution_count": 67,
   "metadata": {},
   "outputs": [
    {
     "data": {
      "text/plain": [
       "True     6275\n",
       "False     775\n",
       "Name: Filter, dtype: int64"
      ]
     },
     "execution_count": 67,
     "metadata": {},
     "output_type": "execute_result"
    }
   ],
   "source": [
    "df['Filter'].value_counts() # false are outliers so to speak"
   ]
  },
  {
   "cell_type": "code",
   "execution_count": 68,
   "metadata": {},
   "outputs": [
    {
     "data": {
      "text/plain": [
       "Text(0.5,1,'eps 1, min_samples 30, ')"
      ]
     },
     "execution_count": 68,
     "metadata": {},
     "output_type": "execute_result"
    },
    {
     "data": {
      "image/png": "[encoded data removed]",
      "text/plain": [
       "<Figure size 422.125x360 with 1 Axes>"
      ]
     },
     "metadata": {
      "needs_background": "light"
     },
     "output_type": "display_data"
    }
   ],
   "source": [
    "import seaborn as sns\n",
    "sns.lmplot(\"num_reactions\", \"num_shares\",data=df,fit_reg=False,hue=\"Filter\",height=5, scatter_kws={'alpha':0.1})\n",
    "# plt.title('eps. 35, min_samples 2, shows transparency outliers as non filtered')\n",
    "plt.title('eps 1, min_samples 30, ')\n"
   ]
  },
  {
   "cell_type": "code",
   "execution_count": 69,
   "metadata": {},
   "outputs": [
    {
     "data": {
      "text/plain": [
       "Text(0.5,1,'DBSCAN can split exceptionally high shares')"
      ]
     },
     "execution_count": 69,
     "metadata": {},
     "output_type": "execute_result"
    },
    {
     "data": {
      "image/png": "[encoded data removed]",
      "text/plain": [
       "<Figure size 350.125x288 with 1 Axes>"
      ]
     },
     "metadata": {
      "needs_background": "light"
     },
     "output_type": "display_data"
    }
   ],
   "source": [
    "# was able to split exceedingly high shares (normalised version)\n",
    "\n",
    "import seaborn as sns\n",
    "sns.lmplot(\"num_shares\", \"video\",data=df,fit_reg=False,hue=\"Filter\",height=4, scatter_kws={'alpha':0.1})\n",
    "# plt.title('eps. 35, min_samples 2, shows transparency outliers as non filtered')\n",
    "plt.title('DBSCAN can split exceptionally high shares')"
   ]
  },
  {
   "cell_type": "code",
   "execution_count": 70,
   "metadata": {},
   "outputs": [
    {
     "data": {
      "text/plain": [
       "Text(0.5,1,'DBSCAN can split exceptionally high reactions, ')"
      ]
     },
     "execution_count": 70,
     "metadata": {},
     "output_type": "execute_result"
    },
    {
     "data": {
      "image/png": "[encoded data removed]",
      "text/plain": [
       "<Figure size 422.125x360 with 1 Axes>"
      ]
     },
     "metadata": {
      "needs_background": "light"
     },
     "output_type": "display_data"
    }
   ],
   "source": [
    "import seaborn as sns\n",
    "sns.lmplot(\"num_reactions\", \"video\",data=df,fit_reg=False,hue=\"Filter\",height=5, scatter_kws={'alpha':0.1})\n",
    "# plt.title('eps. 35, min_samples 2, shows transparency outliers as non filtered')\n",
    "plt.title('DBSCAN can split exceptionally high reactions, ')"
   ]
  },
  {
   "cell_type": "code",
   "execution_count": 71,
   "metadata": {},
   "outputs": [
    {
     "data": {
      "text/plain": [
       "Text(0.5,1,'eps 1, min_samples 30, ')"
      ]
     },
     "execution_count": 71,
     "metadata": {},
     "output_type": "execute_result"
    },
    {
     "data": {
      "image/png": "[encoded data removed]",
      "text/plain": [
       "<Figure size 422.125x360 with 1 Axes>"
      ]
     },
     "metadata": {
      "needs_background": "light"
     },
     "output_type": "display_data"
    }
   ],
   "source": [
    "import seaborn as sns\n",
    "sns.lmplot(\"num_reactions\", \"photo\",data=df,fit_reg=False,hue=\"Filter\",height=5, scatter_kws={'alpha':0.1})\n",
    "# plt.title('eps. 35, min_samples 2, shows transparency outliers as non filtered')\n",
    "plt.title('eps 1, min_samples 30, ')\n"
   ]
  }
 ],
 "metadata": {
  "kernelspec": {
   "display_name": "Python 3",
   "language": "python",
   "name": "python3"
  },
  "language_info": {
   "codemirror_mode": {
    "name": "ipython",
    "version": 3
   },
   "file_extension": ".py",
   "mimetype": "text/x-python",
   "name": "python",
   "nbconvert_exporter": "python",
   "pygments_lexer": "ipython3",
   "version": "3.7.3"
  }
 },
 "nbformat": 4,
 "nbformat_minor": 2
}
